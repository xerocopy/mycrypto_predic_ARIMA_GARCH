{
 "cells": [
  {
   "cell_type": "code",
   "execution_count": 1,
   "id": "a4d502a3",
   "metadata": {},
   "outputs": [],
   "source": [
    "# https://youtu.be/tepxdcepTbY\n",
    "\"\"\"\n",
    "@author: Sreenivas Bhattiprolu\n",
    "@modified by : Jingchao Song\n",
    "\n",
    "Code tested on Tensorflow: 2.2.0\n",
    "    Keras: 2.4.3\n",
    "    \n",
    "dataset: https://finance.yahoo.com/quote/GE/history/\n",
    "Also try S&P: https://finance.yahoo.com/quote/%5EGSPC/history?p=%5EGSPC\n",
    "See Github: https://github.com/bnsreenu/python_for_microscopists/blob/master/181_multivariate_timeseries_LSTM_GE.py\n",
    "See Youtube: https://youtu.be/tepxdcepTbY\n",
    "\n",
    "\"\"\"\n",
    "\n",
    "import numpy as np\n",
    "from tensorflow.keras.models import Sequential\n",
    "from tensorflow.keras.layers import LSTM\n",
    "from tensorflow.keras.layers import Dense, Dropout\n",
    "import pandas as pd\n",
    "from matplotlib import pyplot as plt\n",
    "from sklearn.preprocessing import StandardScaler\n",
    "import seaborn as sns\n",
    "#from datetime import datetime\n",
    "\n",
    "\n",
    "import yfinance as yf"
   ]
  },
  {
   "cell_type": "code",
   "execution_count": 22,
   "id": "c1477801",
   "metadata": {
    "scrolled": true
   },
   "outputs": [
    {
     "data": {
      "text/plain": [
       "(2608, 4)"
      ]
     },
     "execution_count": 22,
     "metadata": {},
     "output_type": "execute_result"
    }
   ],
   "source": [
    "BTC_data = yf.Ticker('BTC-USD').history('Max')\n",
    "df = BTC_data[['Open','High','Low','Close']]\n",
    "\n",
    "df.shape"
   ]
  },
  {
   "cell_type": "code",
   "execution_count": 23,
   "id": "ee200348",
   "metadata": {},
   "outputs": [],
   "source": [
    "df.reset_index(inplace = True)"
   ]
  },
  {
   "cell_type": "code",
   "execution_count": 24,
   "id": "bd9ecce8",
   "metadata": {},
   "outputs": [
    {
     "name": "stdout",
     "output_type": "stream",
     "text": [
      "2593   2021-10-27\n",
      "2594   2021-10-28\n",
      "2595   2021-10-29\n",
      "2596   2021-10-30\n",
      "2597   2021-10-31\n",
      "2598   2021-11-01\n",
      "2599   2021-11-02\n",
      "2600   2021-11-03\n",
      "2601   2021-11-04\n",
      "2602   2021-11-05\n",
      "2603   2021-11-06\n",
      "2604   2021-11-07\n",
      "2605   2021-11-08\n",
      "2606   2021-11-09\n",
      "2607   2021-11-10\n",
      "Name: Date, dtype: datetime64[ns]\n"
     ]
    }
   ],
   "source": [
    "#Separate dates for future plotting\n",
    "train_dates = pd.to_datetime(df['Date'])\n",
    "print(train_dates.tail(15)) #Check last few dates. "
   ]
  },
  {
   "cell_type": "code",
   "execution_count": 25,
   "id": "891eaac1",
   "metadata": {},
   "outputs": [
    {
     "name": "stdout",
     "output_type": "stream",
     "text": [
      "['Open', 'High', 'Low', 'Close']\n"
     ]
    }
   ],
   "source": [
    "#Variables for training\n",
    "cols = list(df)[1:5]\n",
    "#Date and volume columns are not used in training. \n",
    "print(cols) #['Open', 'High', 'Low', 'Close', 'Adj Close']"
   ]
  },
  {
   "cell_type": "code",
   "execution_count": 26,
   "id": "e8040770",
   "metadata": {},
   "outputs": [],
   "source": [
    "#New dataframe with only training data - 5 columns\n",
    "df_for_training = df[cols].astype(float)\n",
    "\n",
    "# df_for_plot=df_for_training.tail(5000)\n",
    "# df_for_plot.plot.line()\n",
    "\n",
    "#LSTM uses sigmoid and tanh that are sensitive to magnitude so values need to be normalized\n",
    "# normalize the dataset\n",
    "scaler = StandardScaler()\n",
    "scaler = scaler.fit(df_for_training)\n",
    "df_for_training_scaled = scaler.transform(df_for_training)\n",
    "\n",
    "#As required for LSTM networks, we require to reshape an input data into n_samples x timesteps x n_features. \n",
    "#In this example, the n_features is 5. We will make timesteps = 14 (past days data used for training). \n",
    "\n",
    "#Empty lists to be populated using formatted training data\n",
    "trainX = []\n",
    "trainY = []\n",
    "\n",
    "n_future = 1  #1 day    # Number of days we want to look into the future based on the past days.\n",
    "n_past = 7  #14 days  # Number of past days we want to use to predict the future."
   ]
  },
  {
   "cell_type": "code",
   "execution_count": 27,
   "id": "06ae0fb9",
   "metadata": {},
   "outputs": [
    {
     "name": "stdout",
     "output_type": "stream",
     "text": [
      "trainX shape == (2601, 7, 4).\n",
      "trainY shape == (2601, 1).\n"
     ]
    }
   ],
   "source": [
    "#Reformat input data into a shape: (n_samples x timesteps x n_features)\n",
    "#In my example, my df_for_training_scaled has a shape (12823, 5)\n",
    "#12823 refers to the number of data points and 5 refers to the columns (multi-variables).\n",
    "for i in range(n_past, len(df_for_training_scaled) - n_future +1):\n",
    "    trainX.append(df_for_training_scaled[i - n_past:i, 0:df_for_training.shape[1]])\n",
    "    trainY.append(df_for_training_scaled[i + n_future - 1:i + n_future, 0])\n",
    "\n",
    "trainX, trainY = np.array(trainX), np.array(trainY)\n",
    "\n",
    "print('trainX shape == {}.'.format(trainX.shape))\n",
    "print('trainY shape == {}.'.format(trainY.shape))"
   ]
  },
  {
   "cell_type": "code",
   "execution_count": 39,
   "id": "16b1fabc",
   "metadata": {},
   "outputs": [
    {
     "data": {
      "text/plain": [
       "dtype('float64')"
      ]
     },
     "execution_count": 39,
     "metadata": {},
     "output_type": "execute_result"
    }
   ],
   "source": [
    "trainX.dtype"
   ]
  },
  {
   "cell_type": "code",
   "execution_count": 28,
   "id": "c56d6105",
   "metadata": {},
   "outputs": [
    {
     "name": "stdout",
     "output_type": "stream",
     "text": [
      "Model: \"sequential_1\"\n",
      "_________________________________________________________________\n",
      "Layer (type)                 Output Shape              Param #   \n",
      "=================================================================\n",
      "lstm_2 (LSTM)                (None, 7, 32)             4736      \n",
      "_________________________________________________________________\n",
      "lstm_3 (LSTM)                (None, 16)                3136      \n",
      "_________________________________________________________________\n",
      "dropout_1 (Dropout)          (None, 16)                0         \n",
      "_________________________________________________________________\n",
      "dense_1 (Dense)              (None, 1)                 17        \n",
      "=================================================================\n",
      "Total params: 7,889\n",
      "Trainable params: 7,889\n",
      "Non-trainable params: 0\n",
      "_________________________________________________________________\n"
     ]
    }
   ],
   "source": [
    "#In my case, trainX has a shape (12809, 14, 5). \n",
    "#12809 because we are looking back 14 days (12823 - 14 = 12809). \n",
    "#Remember that we cannot look back 14 days until we get to the 15th day. \n",
    "#Also, trainY has a shape (12809, 1). Our model only predicts a single value, but \n",
    "#it needs multiple variables (5 in my example) to make this prediction. \n",
    "#This is why we can only predict a single day after our training, the day after where our data ends.\n",
    "#To predict more days in future, we need all the 5 variables which we do not have. \n",
    "#We need to predict all variables if we want to do that. \n",
    "\n",
    "# define the Autoencoder model\n",
    "\n",
    "model = Sequential()\n",
    "model.add(LSTM(32, activation='relu', input_shape=(trainX.shape[1], trainX.shape[2]), return_sequences=True))\n",
    "model.add(LSTM(16, activation='relu', return_sequences=False))\n",
    "model.add(Dropout(0.2))\n",
    "model.add(Dense(trainY.shape[1]))\n",
    "\n",
    "model.compile(optimizer='adam', loss='mse')\n",
    "model.summary()\n",
    "\n"
   ]
  },
  {
   "cell_type": "code",
   "execution_count": 35,
   "id": "9828563c",
   "metadata": {},
   "outputs": [
    {
     "name": "stdout",
     "output_type": "stream",
     "text": [
      "Epoch 1/100\n",
      "130/130 [==============================] - 0s 3ms/step - loss: 0.0029 - val_loss: 0.1734\n",
      "Epoch 2/100\n",
      "130/130 [==============================] - 0s 2ms/step - loss: 0.0029 - val_loss: 0.1961\n",
      "Epoch 3/100\n",
      "130/130 [==============================] - 0s 2ms/step - loss: 0.0029 - val_loss: 0.2337\n",
      "Epoch 4/100\n",
      "130/130 [==============================] - 0s 3ms/step - loss: 0.0034 - val_loss: 0.4075\n",
      "Epoch 5/100\n",
      "130/130 [==============================] - 0s 2ms/step - loss: 0.0027 - val_loss: 0.2310\n",
      "Epoch 6/100\n",
      "130/130 [==============================] - 0s 2ms/step - loss: 0.0032 - val_loss: 0.2834\n",
      "Epoch 7/100\n",
      "130/130 [==============================] - 0s 3ms/step - loss: 0.0031 - val_loss: 0.2852\n",
      "Epoch 8/100\n",
      "130/130 [==============================] - 0s 2ms/step - loss: 0.0028 - val_loss: 0.1694\n",
      "Epoch 9/100\n",
      "130/130 [==============================] - 0s 2ms/step - loss: 0.0030 - val_loss: 0.0877\n",
      "Epoch 10/100\n",
      "130/130 [==============================] - 0s 3ms/step - loss: 0.0029 - val_loss: 0.1329\n",
      "Epoch 11/100\n",
      "130/130 [==============================] - 0s 2ms/step - loss: 0.0032 - val_loss: 0.1488\n",
      "Epoch 12/100\n",
      "130/130 [==============================] - 0s 2ms/step - loss: 0.0029 - val_loss: 0.1418\n",
      "Epoch 13/100\n",
      "130/130 [==============================] - 0s 3ms/step - loss: 0.0030 - val_loss: 0.0898\n",
      "Epoch 14/100\n",
      "130/130 [==============================] - 0s 2ms/step - loss: 0.0030 - val_loss: 0.2155\n",
      "Epoch 15/100\n",
      "130/130 [==============================] - 0s 2ms/step - loss: 0.0032 - val_loss: 0.2644\n",
      "Epoch 16/100\n",
      "130/130 [==============================] - 0s 2ms/step - loss: 0.0029 - val_loss: 0.1224\n",
      "Epoch 17/100\n",
      "130/130 [==============================] - 0s 2ms/step - loss: 0.0031 - val_loss: 0.2923\n",
      "Epoch 18/100\n",
      "130/130 [==============================] - 0s 2ms/step - loss: 0.0030 - val_loss: 0.5807\n",
      "Epoch 19/100\n",
      "130/130 [==============================] - 0s 2ms/step - loss: 0.0029 - val_loss: 0.2906\n",
      "Epoch 20/100\n",
      "130/130 [==============================] - 0s 2ms/step - loss: 0.0031 - val_loss: 0.2691\n",
      "Epoch 21/100\n",
      "130/130 [==============================] - 0s 2ms/step - loss: 0.0030 - val_loss: 0.2470\n",
      "Epoch 22/100\n",
      "130/130 [==============================] - 0s 3ms/step - loss: 0.0031 - val_loss: 0.3922\n",
      "Epoch 23/100\n",
      "130/130 [==============================] - 0s 2ms/step - loss: 0.0031 - val_loss: 0.1363\n",
      "Epoch 24/100\n",
      "130/130 [==============================] - 0s 2ms/step - loss: 0.0029 - val_loss: 0.4235\n",
      "Epoch 25/100\n",
      "130/130 [==============================] - 0s 2ms/step - loss: 0.0031 - val_loss: 0.1726\n",
      "Epoch 26/100\n",
      "130/130 [==============================] - 0s 2ms/step - loss: 0.0030 - val_loss: 0.1756\n",
      "Epoch 27/100\n",
      "130/130 [==============================] - 0s 2ms/step - loss: 0.0027 - val_loss: 0.1642\n",
      "Epoch 28/100\n",
      "130/130 [==============================] - 0s 2ms/step - loss: 0.0031 - val_loss: 0.1661\n",
      "Epoch 29/100\n",
      "130/130 [==============================] - 0s 2ms/step - loss: 0.0032 - val_loss: 0.2590\n",
      "Epoch 30/100\n",
      "130/130 [==============================] - 0s 2ms/step - loss: 0.0028 - val_loss: 0.2828\n",
      "Epoch 31/100\n",
      "130/130 [==============================] - 0s 2ms/step - loss: 0.0029 - val_loss: 0.1352\n",
      "Epoch 32/100\n",
      "130/130 [==============================] - 0s 2ms/step - loss: 0.0029 - val_loss: 0.2269\n",
      "Epoch 33/100\n",
      "130/130 [==============================] - 0s 2ms/step - loss: 0.0031 - val_loss: 0.3044\n",
      "Epoch 34/100\n",
      "130/130 [==============================] - 0s 2ms/step - loss: 0.0029 - val_loss: 0.3356\n",
      "Epoch 35/100\n",
      "130/130 [==============================] - 0s 2ms/step - loss: 0.0031 - val_loss: 0.0950\n",
      "Epoch 36/100\n",
      "130/130 [==============================] - 0s 2ms/step - loss: 0.0028 - val_loss: 0.2816\n",
      "Epoch 37/100\n",
      "130/130 [==============================] - 0s 2ms/step - loss: 0.0032 - val_loss: 0.0569\n",
      "Epoch 38/100\n",
      "130/130 [==============================] - 0s 2ms/step - loss: 0.0032 - val_loss: 0.0485\n",
      "Epoch 39/100\n",
      "130/130 [==============================] - 0s 2ms/step - loss: 0.0031 - val_loss: 0.0453\n",
      "Epoch 40/100\n",
      "130/130 [==============================] - 0s 2ms/step - loss: 0.0032 - val_loss: 0.0541\n",
      "Epoch 41/100\n",
      "130/130 [==============================] - 0s 2ms/step - loss: 0.0028 - val_loss: 0.0654\n",
      "Epoch 42/100\n",
      "130/130 [==============================] - 0s 2ms/step - loss: 0.0032 - val_loss: 0.0627\n",
      "Epoch 43/100\n",
      "130/130 [==============================] - 0s 2ms/step - loss: 0.0031 - val_loss: 0.1393\n",
      "Epoch 44/100\n",
      "130/130 [==============================] - 0s 2ms/step - loss: 0.0028 - val_loss: 0.1377\n",
      "Epoch 45/100\n",
      "130/130 [==============================] - 0s 2ms/step - loss: 0.0030 - val_loss: 0.1759\n",
      "Epoch 46/100\n",
      "130/130 [==============================] - 0s 2ms/step - loss: 0.0029 - val_loss: 0.2966\n",
      "Epoch 47/100\n",
      "130/130 [==============================] - 0s 2ms/step - loss: 0.0028 - val_loss: 0.2286\n",
      "Epoch 48/100\n",
      "130/130 [==============================] - 0s 3ms/step - loss: 0.0028 - val_loss: 0.1533\n",
      "Epoch 49/100\n",
      "130/130 [==============================] - 0s 2ms/step - loss: 0.0028 - val_loss: 0.2458\n",
      "Epoch 50/100\n",
      "130/130 [==============================] - 0s 2ms/step - loss: 0.0031 - val_loss: 0.1370\n",
      "Epoch 51/100\n",
      "130/130 [==============================] - 0s 3ms/step - loss: 0.0030 - val_loss: 0.2082\n",
      "Epoch 52/100\n",
      "130/130 [==============================] - 0s 2ms/step - loss: 0.0030 - val_loss: 0.2806\n",
      "Epoch 53/100\n",
      "130/130 [==============================] - 0s 2ms/step - loss: 0.0026 - val_loss: 0.2647\n",
      "Epoch 54/100\n",
      "130/130 [==============================] - 0s 2ms/step - loss: 0.0029 - val_loss: 0.2570\n",
      "Epoch 55/100\n",
      "130/130 [==============================] - 0s 3ms/step - loss: 0.0029 - val_loss: 0.1437\n",
      "Epoch 56/100\n",
      "130/130 [==============================] - 0s 2ms/step - loss: 0.0028 - val_loss: 0.2742\n",
      "Epoch 57/100\n",
      "130/130 [==============================] - 0s 3ms/step - loss: 0.0028 - val_loss: 0.2218\n",
      "Epoch 58/100\n",
      "130/130 [==============================] - 0s 2ms/step - loss: 0.0030 - val_loss: 0.2549\n",
      "Epoch 59/100\n",
      "130/130 [==============================] - 0s 2ms/step - loss: 0.0029 - val_loss: 0.0650\n",
      "Epoch 60/100\n",
      "130/130 [==============================] - 0s 2ms/step - loss: 0.0031 - val_loss: 0.1235\n",
      "Epoch 61/100\n",
      "130/130 [==============================] - 0s 3ms/step - loss: 0.0029 - val_loss: 0.2297\n",
      "Epoch 62/100\n",
      "130/130 [==============================] - 0s 3ms/step - loss: 0.0030 - val_loss: 0.1672\n",
      "Epoch 63/100\n",
      "130/130 [==============================] - 0s 3ms/step - loss: 0.0027 - val_loss: 0.0561\n",
      "Epoch 64/100\n",
      "130/130 [==============================] - 0s 2ms/step - loss: 0.0030 - val_loss: 0.3721\n",
      "Epoch 65/100\n",
      "130/130 [==============================] - 0s 2ms/step - loss: 0.0029 - val_loss: 0.2033\n",
      "Epoch 66/100\n",
      "130/130 [==============================] - 0s 3ms/step - loss: 0.0029 - val_loss: 0.1269\n",
      "Epoch 67/100\n",
      "130/130 [==============================] - 0s 2ms/step - loss: 0.0029 - val_loss: 0.0684\n",
      "Epoch 68/100\n",
      "130/130 [==============================] - 0s 2ms/step - loss: 0.0027 - val_loss: 0.0827\n",
      "Epoch 69/100\n",
      "130/130 [==============================] - 0s 2ms/step - loss: 0.0028 - val_loss: 0.2367\n",
      "Epoch 70/100\n",
      "130/130 [==============================] - 0s 2ms/step - loss: 0.0028 - val_loss: 0.1028\n",
      "Epoch 71/100\n",
      "130/130 [==============================] - 0s 2ms/step - loss: 0.0029 - val_loss: 0.1227\n",
      "Epoch 72/100\n",
      "130/130 [==============================] - 0s 2ms/step - loss: 0.0029 - val_loss: 0.1201\n",
      "Epoch 73/100\n",
      "130/130 [==============================] - 0s 3ms/step - loss: 0.0029 - val_loss: 0.0360\n",
      "Epoch 74/100\n",
      "130/130 [==============================] - 0s 2ms/step - loss: 0.0029 - val_loss: 0.2314\n",
      "Epoch 75/100\n",
      "130/130 [==============================] - 0s 2ms/step - loss: 0.0030 - val_loss: 0.1947\n",
      "Epoch 76/100\n",
      "130/130 [==============================] - 0s 2ms/step - loss: 0.0029 - val_loss: 0.4547\n",
      "Epoch 77/100\n",
      "130/130 [==============================] - 0s 2ms/step - loss: 0.0028 - val_loss: 0.2480\n",
      "Epoch 78/100\n",
      "130/130 [==============================] - 0s 2ms/step - loss: 0.0027 - val_loss: 0.2362\n",
      "Epoch 79/100\n",
      "130/130 [==============================] - 0s 2ms/step - loss: 0.0029 - val_loss: 0.0391\n",
      "Epoch 80/100\n",
      "130/130 [==============================] - 0s 2ms/step - loss: 0.0028 - val_loss: 0.1717\n",
      "Epoch 81/100\n",
      "130/130 [==============================] - 0s 2ms/step - loss: 0.0027 - val_loss: 0.1057\n",
      "Epoch 82/100\n",
      "130/130 [==============================] - 0s 2ms/step - loss: 0.0030 - val_loss: 0.1277\n",
      "Epoch 83/100\n",
      "130/130 [==============================] - 0s 2ms/step - loss: 0.0029 - val_loss: 0.0575\n",
      "Epoch 84/100\n",
      "130/130 [==============================] - 0s 2ms/step - loss: 0.0030 - val_loss: 0.0360\n",
      "Epoch 85/100\n",
      "130/130 [==============================] - 0s 2ms/step - loss: 0.0029 - val_loss: 0.2438\n",
      "Epoch 86/100\n",
      "130/130 [==============================] - 0s 2ms/step - loss: 0.0032 - val_loss: 0.0751\n",
      "Epoch 87/100\n",
      "130/130 [==============================] - 0s 2ms/step - loss: 0.0030 - val_loss: 0.0915\n",
      "Epoch 88/100\n",
      "130/130 [==============================] - 0s 3ms/step - loss: 0.0032 - val_loss: 0.3606\n",
      "Epoch 89/100\n",
      "130/130 [==============================] - 0s 2ms/step - loss: 0.0027 - val_loss: 0.2266\n",
      "Epoch 90/100\n",
      "130/130 [==============================] - 0s 2ms/step - loss: 0.0028 - val_loss: 0.0704\n",
      "Epoch 91/100\n",
      "130/130 [==============================] - 0s 3ms/step - loss: 0.0028 - val_loss: 0.0827\n",
      "Epoch 92/100\n",
      "130/130 [==============================] - 0s 2ms/step - loss: 0.0029 - val_loss: 0.0755\n",
      "Epoch 93/100\n",
      "130/130 [==============================] - 0s 2ms/step - loss: 0.0031 - val_loss: 0.3034\n",
      "Epoch 94/100\n",
      "130/130 [==============================] - 0s 2ms/step - loss: 0.0032 - val_loss: 0.0889\n",
      "Epoch 95/100\n",
      "130/130 [==============================] - 0s 2ms/step - loss: 0.0030 - val_loss: 0.0741\n",
      "Epoch 96/100\n",
      "130/130 [==============================] - 0s 2ms/step - loss: 0.0032 - val_loss: 0.1072\n",
      "Epoch 97/100\n",
      "130/130 [==============================] - 0s 2ms/step - loss: 0.0027 - val_loss: 0.2161\n",
      "Epoch 98/100\n",
      "130/130 [==============================] - 0s 2ms/step - loss: 0.0032 - val_loss: 0.0757\n",
      "Epoch 99/100\n",
      "130/130 [==============================] - 0s 2ms/step - loss: 0.0029 - val_loss: 0.1343\n",
      "Epoch 100/100\n",
      "130/130 [==============================] - 0s 2ms/step - loss: 0.0031 - val_loss: 0.0981\n"
     ]
    },
    {
     "data": {
      "text/plain": [
       "<matplotlib.legend.Legend at 0x24a094c73d0>"
      ]
     },
     "execution_count": 35,
     "metadata": {},
     "output_type": "execute_result"
    },
    {
     "data": {
      "image/png": "[encoded data removed]",
      "text/plain": [
       "<Figure size 432x288 with 1 Axes>"
      ]
     },
     "metadata": {
      "needs_background": "light"
     },
     "output_type": "display_data"
    }
   ],
   "source": [
    "# fit the model\n",
    "history = model.fit(trainX, trainY, epochs=100, batch_size=16, validation_split=0.2, verbose=1)\n",
    "\n",
    "plt.plot(history.history['loss'], label='Training loss')\n",
    "plt.plot(history.history['val_loss'], label='Validation loss')\n",
    "plt.legend()"
   ]
  },
  {
   "cell_type": "code",
   "execution_count": 36,
   "id": "7d30db74",
   "metadata": {},
   "outputs": [
    {
     "name": "stdout",
     "output_type": "stream",
     "text": [
      "[Timestamp('2021-10-27 00:00:00', freq='D'), Timestamp('2021-10-28 00:00:00', freq='D'), Timestamp('2021-10-29 00:00:00', freq='D'), Timestamp('2021-10-30 00:00:00', freq='D'), Timestamp('2021-10-31 00:00:00', freq='D'), Timestamp('2021-11-01 00:00:00', freq='D'), Timestamp('2021-11-02 00:00:00', freq='D'), Timestamp('2021-11-03 00:00:00', freq='D'), Timestamp('2021-11-04 00:00:00', freq='D'), Timestamp('2021-11-05 00:00:00', freq='D'), Timestamp('2021-11-06 00:00:00', freq='D'), Timestamp('2021-11-07 00:00:00', freq='D'), Timestamp('2021-11-08 00:00:00', freq='D'), Timestamp('2021-11-09 00:00:00', freq='D'), Timestamp('2021-11-10 00:00:00', freq='D'), Timestamp('2021-11-11 00:00:00', freq='D'), Timestamp('2021-11-12 00:00:00', freq='D'), Timestamp('2021-11-13 00:00:00', freq='D'), Timestamp('2021-11-14 00:00:00', freq='D'), Timestamp('2021-11-15 00:00:00', freq='D'), Timestamp('2021-11-16 00:00:00', freq='D'), Timestamp('2021-11-17 00:00:00', freq='D'), Timestamp('2021-11-18 00:00:00', freq='D'), Timestamp('2021-11-19 00:00:00', freq='D'), Timestamp('2021-11-20 00:00:00', freq='D'), Timestamp('2021-11-21 00:00:00', freq='D'), Timestamp('2021-11-22 00:00:00', freq='D'), Timestamp('2021-11-23 00:00:00', freq='D'), Timestamp('2021-11-24 00:00:00', freq='D'), Timestamp('2021-11-25 00:00:00', freq='D')]\n"
     ]
    }
   ],
   "source": [
    "#Predicting...\n",
    "#Libraries that will help us extract only business days in the US.\n",
    "#Otherwise our dates would be wrong when we look back (or forward).  \n",
    "\n",
    "# from pandas.tseries.holiday import USFederalHolidayCalendar\n",
    "# from pandas.tseries.offsets import CustomBusinessDay\n",
    "# us_bd = CustomBusinessDay(calendar=USFederalHolidayCalendar())\n",
    "\n",
    "#Remember that we can only predict one day in future as our model needs 5 variables\n",
    "#as inputs for prediction. We only have all 5 variables until the last day in our dataset.\n",
    "n_past = 15\n",
    "n_days_for_prediction=30 #let us predict past 15 days\n",
    "\n",
    "predict_period_dates = pd.date_range(list(train_dates)[-n_past], periods=n_days_for_prediction, freq='1d').tolist()\n",
    "print(predict_period_dates)\n"
   ]
  },
  {
   "cell_type": "code",
   "execution_count": 37,
   "id": "d01da2c7",
   "metadata": {},
   "outputs": [],
   "source": [
    "#Make prediction\n",
    "prediction = model.predict(trainX[-n_days_for_prediction:]) #shape = (n, 1) where n is the n_days_for_prediction\n",
    "\n",
    "#Perform inverse transformation to rescale back to original range\n",
    "#Since we used 5 variables for transform, the inverse expects same dimensions\n",
    "#Therefore, let us copy our values 5 times and discard them after inverse transform\n",
    "prediction_copies = np.repeat(prediction, df_for_training.shape[1], axis=-1)\n",
    "y_pred_future = scaler.inverse_transform(prediction_copies)[:,0]"
   ]
  },
  {
   "cell_type": "code",
   "execution_count": 38,
   "id": "784299b9",
   "metadata": {
    "scrolled": true
   },
   "outputs": [
    {
     "name": "stderr",
     "output_type": "stream",
     "text": [
      "C:\\Users\\jingc\\AppData\\Local\\Temp/ipykernel_14184/2190141466.py:11: SettingWithCopyWarning: \n",
      "A value is trying to be set on a copy of a slice from a DataFrame.\n",
      "Try using .loc[row_indexer,col_indexer] = value instead\n",
      "\n",
      "See the caveats in the documentation: https://pandas.pydata.org/pandas-docs/stable/user_guide/indexing.html#returning-a-view-versus-a-copy\n",
      "  original['Date']=pd.to_datetime(original['Date'])\n",
      "C:\\ProgramData\\Anaconda3\\lib\\site-packages\\seaborn\\_decorators.py:36: FutureWarning: Pass the following variables as keyword args: x, y. From version 0.12, the only valid positional argument will be `data`, and passing other arguments without an explicit keyword will result in an error or misinterpretation.\n",
      "  warnings.warn(\n",
      "C:\\ProgramData\\Anaconda3\\lib\\site-packages\\seaborn\\_decorators.py:36: FutureWarning: Pass the following variables as keyword args: x, y. From version 0.12, the only valid positional argument will be `data`, and passing other arguments without an explicit keyword will result in an error or misinterpretation.\n",
      "  warnings.warn(\n"
     ]
    },
    {
     "data": {
      "text/plain": [
       "<AxesSubplot:xlabel='Date', ylabel='Open'>"
      ]
     },
     "execution_count": 38,
     "metadata": {},
     "output_type": "execute_result"
    },
    {
     "data": {
      "image/png": "[encoded data removed]",
      "text/plain": [
       "<Figure size 432x288 with 1 Axes>"
      ]
     },
     "metadata": {
      "needs_background": "light"
     },
     "output_type": "display_data"
    }
   ],
   "source": [
    "# Convert timestamp to date\n",
    "forecast_dates = []\n",
    "for time_i in predict_period_dates:\n",
    "    forecast_dates.append(time_i.date())\n",
    "    \n",
    "df_forecast = pd.DataFrame({'Date':np.array(forecast_dates), 'Open':y_pred_future})\n",
    "df_forecast['Date']=pd.to_datetime(df_forecast['Date'])\n",
    "\n",
    "\n",
    "original = df[['Date', 'Open']]\n",
    "original['Date']=pd.to_datetime(original['Date'])\n",
    "original = original.loc[original['Date'] >= '2021-5-1']\n",
    "\n",
    "sns.lineplot(original['Date'], original['Open'])\n",
    "sns.lineplot(df_forecast['Date'], df_forecast['Open'])"
   ]
  },
  {
   "cell_type": "code",
   "execution_count": null,
   "id": "e1d435a7",
   "metadata": {},
   "outputs": [],
   "source": []
  },
  {
   "cell_type": "code",
   "execution_count": null,
   "id": "a309baac",
   "metadata": {},
   "outputs": [],
   "source": []
  },
  {
   "cell_type": "code",
   "execution_count": null,
   "id": "6a08e89d",
   "metadata": {},
   "outputs": [],
   "source": [
    "\n",
    "\n",
    "\n",
    "\n",
    "\n",
    "\n",
    "\n",
    "\n",
    "\n"
   ]
  },
  {
   "cell_type": "code",
   "execution_count": null,
   "id": "637eb8d1",
   "metadata": {},
   "outputs": [],
   "source": []
  }
 ],
 "metadata": {
  "kernelspec": {
   "display_name": "Python 3",
   "language": "python",
   "name": "python3"
  },
  "language_info": {
   "codemirror_mode": {
    "name": "ipython",
    "version": 3
   },
   "file_extension": ".py",
   "mimetype": "text/x-python",
   "name": "python",
   "nbconvert_exporter": "python",
   "pygments_lexer": "ipython3",
   "version": "3.8.8"
  }
 },
 "nbformat": 4,
 "nbformat_minor": 5
}
