{
 "cells": [
  {
   "cell_type": "code",
   "execution_count": 1,
   "id": "ac80ba6a",
   "metadata": {},
   "outputs": [
    {
     "name": "stdout",
     "output_type": "stream",
     "text": [
      "Collecting pmdarima\n",
      "  Downloading pmdarima-1.8.4-cp38-cp38-win_amd64.whl (600 kB)\n",
      "Requirement already satisfied: scikit-learn>=0.22 in c:\\programdata\\anaconda3\\lib\\site-packages (from pmdarima) (0.24.1)\n",
      "Requirement already satisfied: urllib3 in c:\\programdata\\anaconda3\\lib\\site-packages (from pmdarima) (1.26.4)\n",
      "Requirement already satisfied: scipy>=1.3.2 in c:\\programdata\\anaconda3\\lib\\site-packages (from pmdarima) (1.6.2)\n",
      "Requirement already satisfied: statsmodels!=0.12.0,>=0.11 in c:\\programdata\\anaconda3\\lib\\site-packages (from pmdarima) (0.12.2)\n",
      "Requirement already satisfied: Cython!=0.29.18,>=0.29 in c:\\programdata\\anaconda3\\lib\\site-packages (from pmdarima) (0.29.23)\n",
      "Requirement already satisfied: setuptools!=50.0.0,>=38.6.0 in c:\\programdata\\anaconda3\\lib\\site-packages (from pmdarima) (52.0.0.post20210125)\n",
      "Requirement already satisfied: pandas>=0.19 in c:\\programdata\\anaconda3\\lib\\site-packages (from pmdarima) (1.2.4)\n",
      "Requirement already satisfied: numpy>=1.19.3 in c:\\users\\jingc\\appdata\\roaming\\python\\python38\\site-packages (from pmdarima) (1.19.5)\n",
      "Requirement already satisfied: joblib>=0.11 in c:\\programdata\\anaconda3\\lib\\site-packages (from pmdarima) (1.0.1)\n",
      "Requirement already satisfied: python-dateutil>=2.7.3 in c:\\programdata\\anaconda3\\lib\\site-packages (from pandas>=0.19->pmdarima) (2.8.1)\n",
      "Requirement already satisfied: pytz>=2017.3 in c:\\programdata\\anaconda3\\lib\\site-packages (from pandas>=0.19->pmdarima) (2021.1)\n",
      "Requirement already satisfied: six>=1.5 in c:\\programdata\\anaconda3\\lib\\site-packages (from python-dateutil>=2.7.3->pandas>=0.19->pmdarima) (1.15.0)\n",
      "Requirement already satisfied: threadpoolctl>=2.0.0 in c:\\programdata\\anaconda3\\lib\\site-packages (from scikit-learn>=0.22->pmdarima) (2.1.0)\n",
      "Requirement already satisfied: patsy>=0.5 in c:\\programdata\\anaconda3\\lib\\site-packages (from statsmodels!=0.12.0,>=0.11->pmdarima) (0.5.1)\n",
      "Installing collected packages: pmdarima\n",
      "Successfully installed pmdarima-1.8.4\n"
     ]
    }
   ],
   "source": [
    "#!pip install pmdarima"
   ]
  },
  {
   "cell_type": "code",
   "execution_count": 2,
   "id": "a15a8e90",
   "metadata": {},
   "outputs": [],
   "source": [
    "import pandas as pd\n",
    "import numpy as np\n",
    "import matplotlib.pyplot as plt\n",
    "import yfinance as yf\n",
    "import pmdarima as pm"
   ]
  },
  {
   "cell_type": "code",
   "execution_count": 3,
   "id": "f54a0272",
   "metadata": {},
   "outputs": [
    {
     "data": {
      "text/plain": [
       "<AxesSubplot:xlabel='Date'>"
      ]
     },
     "execution_count": 3,
     "metadata": {},
     "output_type": "execute_result"
    },
    {
     "data": {
      "image/png": "[encoded data removed]",
      "text/plain": [
       "<Figure size 432x288 with 1 Axes>"
      ]
     },
     "metadata": {
      "needs_background": "light"
     },
     "output_type": "display_data"
    }
   ],
   "source": [
    "df = yf.Ticker('BTC-USD').history(\"Max\")\n",
    "df = pd.DataFrame(df['Close'])\n",
    "df.plot()"
   ]
  },
  {
   "cell_type": "code",
   "execution_count": 4,
   "id": "45de00da",
   "metadata": {},
   "outputs": [
    {
     "data": {
      "text/plain": [
       "(2616, 1)"
      ]
     },
     "execution_count": 4,
     "metadata": {},
     "output_type": "execute_result"
    }
   ],
   "source": [
    "df.shape"
   ]
  },
  {
   "cell_type": "code",
   "execution_count": 5,
   "id": "a0ad2ea6",
   "metadata": {},
   "outputs": [],
   "source": [
    "df['LogClose'] = np.log(df['Close'])"
   ]
  },
  {
   "cell_type": "code",
   "execution_count": 33,
   "id": "5e1d7221",
   "metadata": {},
   "outputs": [],
   "source": [
    "Ntest = 60\n",
    "train =df.iloc[:-Ntest]\n",
    "test = df.iloc[-Ntest:]"
   ]
  },
  {
   "cell_type": "code",
   "execution_count": 34,
   "id": "5dcdf2ad",
   "metadata": {},
   "outputs": [
    {
     "name": "stdout",
     "output_type": "stream",
     "text": [
      "Performing stepwise search to minimize aic\n",
      " ARIMA(2,1,2)(1,0,1)[12] intercept   : AIC=40502.628, Time=6.45 sec\n",
      " ARIMA(0,1,0)(0,0,0)[12] intercept   : AIC=40585.374, Time=0.04 sec\n",
      " ARIMA(1,1,0)(1,0,0)[12] intercept   : AIC=40558.491, Time=0.41 sec\n",
      " ARIMA(0,1,1)(0,0,1)[12] intercept   : AIC=40562.224, Time=0.47 sec\n",
      " ARIMA(0,1,0)(0,0,0)[12]             : AIC=40585.225, Time=0.02 sec\n",
      " ARIMA(2,1,2)(0,0,1)[12] intercept   : AIC=40552.983, Time=1.61 sec\n",
      " ARIMA(2,1,2)(1,0,0)[12] intercept   : AIC=40550.049, Time=1.74 sec\n",
      " ARIMA(2,1,2)(2,0,1)[12] intercept   : AIC=40502.307, Time=26.31 sec\n",
      " ARIMA(2,1,2)(2,0,0)[12] intercept   : AIC=40539.068, Time=8.95 sec\n",
      " ARIMA(2,1,2)(2,0,2)[12] intercept   : AIC=inf, Time=30.70 sec\n",
      " ARIMA(2,1,2)(1,0,2)[12] intercept   : AIC=40529.848, Time=10.85 sec\n",
      " ARIMA(1,1,2)(2,0,1)[12] intercept   : AIC=40528.546, Time=13.45 sec\n",
      " ARIMA(2,1,1)(2,0,1)[12] intercept   : AIC=40529.158, Time=14.80 sec\n",
      " ARIMA(3,1,2)(2,0,1)[12] intercept   : AIC=40532.173, Time=17.56 sec\n",
      " ARIMA(2,1,3)(2,0,1)[12] intercept   : AIC=40532.388, Time=19.41 sec\n",
      " ARIMA(1,1,1)(2,0,1)[12] intercept   : AIC=40537.328, Time=13.86 sec\n",
      " ARIMA(1,1,3)(2,0,1)[12] intercept   : AIC=40530.333, Time=14.98 sec\n",
      " ARIMA(3,1,1)(2,0,1)[12] intercept   : AIC=40530.042, Time=17.46 sec\n",
      " ARIMA(3,1,3)(2,0,1)[12] intercept   : AIC=40464.283, Time=33.14 sec\n",
      " ARIMA(3,1,3)(1,0,1)[12] intercept   : AIC=40466.002, Time=24.10 sec\n",
      " ARIMA(3,1,3)(2,0,0)[12] intercept   : AIC=40470.226, Time=30.26 sec\n",
      " ARIMA(3,1,3)(2,0,2)[12] intercept   : AIC=40461.165, Time=37.86 sec\n",
      " ARIMA(3,1,3)(1,0,2)[12] intercept   : AIC=40463.684, Time=38.79 sec\n",
      " ARIMA(2,1,3)(2,0,2)[12] intercept   : AIC=40523.536, Time=35.76 sec\n",
      " ARIMA(3,1,2)(2,0,2)[12] intercept   : AIC=inf, Time=30.85 sec\n",
      " ARIMA(4,1,3)(2,0,2)[12] intercept   : AIC=40458.609, Time=47.09 sec\n",
      " ARIMA(4,1,3)(1,0,2)[12] intercept   : AIC=40464.897, Time=40.27 sec\n",
      " ARIMA(4,1,3)(2,0,1)[12] intercept   : AIC=40474.760, Time=43.00 sec\n",
      " ARIMA(4,1,3)(1,0,1)[12] intercept   : AIC=40472.486, Time=27.38 sec\n",
      " ARIMA(4,1,2)(2,0,2)[12] intercept   : AIC=inf, Time=36.28 sec\n",
      " ARIMA(5,1,3)(2,0,2)[12] intercept   : AIC=40463.761, Time=48.70 sec\n",
      " ARIMA(4,1,4)(2,0,2)[12] intercept   : AIC=inf, Time=43.35 sec\n",
      " ARIMA(3,1,4)(2,0,2)[12] intercept   : AIC=40457.689, Time=44.90 sec\n",
      " ARIMA(3,1,4)(1,0,2)[12] intercept   : AIC=40466.869, Time=41.12 sec\n",
      " ARIMA(3,1,4)(2,0,1)[12] intercept   : AIC=40472.184, Time=38.37 sec\n",
      " ARIMA(3,1,4)(1,0,1)[12] intercept   : AIC=40475.188, Time=25.73 sec\n",
      " ARIMA(2,1,4)(2,0,2)[12] intercept   : AIC=40464.058, Time=39.37 sec\n",
      " ARIMA(3,1,5)(2,0,2)[12] intercept   : AIC=40532.360, Time=46.40 sec\n",
      " ARIMA(2,1,5)(2,0,2)[12] intercept   : AIC=40522.241, Time=43.87 sec\n",
      " ARIMA(4,1,5)(2,0,2)[12] intercept   : AIC=40513.164, Time=52.22 sec\n",
      " ARIMA(3,1,4)(2,0,2)[12]             : AIC=40457.724, Time=31.53 sec\n",
      "\n",
      "Best model:  ARIMA(3,1,4)(2,0,2)[12] intercept\n",
      "Total fit time: 1079.471 seconds\n"
     ]
    }
   ],
   "source": [
    "model = pm.auto_arima(train['Close'],\n",
    "                     trace = True,\n",
    "                     suppress_warnings = True,\n",
    "                     seasonal = True, m = 12)"
   ]
  },
  {
   "cell_type": "code",
   "execution_count": 35,
   "id": "2563b741",
   "metadata": {},
   "outputs": [
    {
     "data": {
      "text/html": [
       "<table class=\"simpletable\">\n",
       "<caption>SARIMAX Results</caption>\n",
       "<tr>\n",
       "  <th>Dep. Variable:</th>                    <td>y</td>                  <th>  No. Observations:  </th>    <td>2556</td>   \n",
       "</tr>\n",
       "<tr>\n",
       "  <th>Model:</th>           <td>SARIMAX(3, 1, 4)x(2, 0, [1, 2], 12)</td> <th>  Log Likelihood     </th> <td>-20215.845</td>\n",
       "</tr>\n",
       "<tr>\n",
       "  <th>Date:</th>                     <td>Fri, 19 Nov 2021</td>           <th>  AIC                </th>  <td>40457.689</td>\n",
       "</tr>\n",
       "<tr>\n",
       "  <th>Time:</th>                         <td>13:59:39</td>               <th>  BIC                </th>  <td>40533.685</td>\n",
       "</tr>\n",
       "<tr>\n",
       "  <th>Sample:</th>                           <td>0</td>                  <th>  HQIC               </th>  <td>40485.249</td>\n",
       "</tr>\n",
       "<tr>\n",
       "  <th></th>                               <td> - 2556</td>               <th>                     </th>      <td> </td>    \n",
       "</tr>\n",
       "<tr>\n",
       "  <th>Covariance Type:</th>                 <td>opg</td>                 <th>                     </th>      <td> </td>    \n",
       "</tr>\n",
       "</table>\n",
       "<table class=\"simpletable\">\n",
       "<tr>\n",
       "      <td></td>         <th>coef</th>     <th>std err</th>      <th>z</th>      <th>P>|z|</th>  <th>[0.025</th>    <th>0.975]</th>  \n",
       "</tr>\n",
       "<tr>\n",
       "  <th>intercept</th> <td>   16.6085</td> <td>   15.929</td> <td>    1.043</td> <td> 0.297</td> <td>  -14.611</td> <td>   47.828</td>\n",
       "</tr>\n",
       "<tr>\n",
       "  <th>ar.L1</th>     <td>    0.4128</td> <td>    0.047</td> <td>    8.748</td> <td> 0.000</td> <td>    0.320</td> <td>    0.505</td>\n",
       "</tr>\n",
       "<tr>\n",
       "  <th>ar.L2</th>     <td>   -0.5103</td> <td>    0.025</td> <td>  -20.612</td> <td> 0.000</td> <td>   -0.559</td> <td>   -0.462</td>\n",
       "</tr>\n",
       "<tr>\n",
       "  <th>ar.L3</th>     <td>    0.8470</td> <td>    0.045</td> <td>   18.876</td> <td> 0.000</td> <td>    0.759</td> <td>    0.935</td>\n",
       "</tr>\n",
       "<tr>\n",
       "  <th>ma.L1</th>     <td>   -0.4542</td> <td>    0.048</td> <td>   -9.416</td> <td> 0.000</td> <td>   -0.549</td> <td>   -0.360</td>\n",
       "</tr>\n",
       "<tr>\n",
       "  <th>ma.L2</th>     <td>    0.5964</td> <td>    0.026</td> <td>   23.032</td> <td> 0.000</td> <td>    0.546</td> <td>    0.647</td>\n",
       "</tr>\n",
       "<tr>\n",
       "  <th>ma.L3</th>     <td>   -0.8649</td> <td>    0.048</td> <td>  -18.105</td> <td> 0.000</td> <td>   -0.959</td> <td>   -0.771</td>\n",
       "</tr>\n",
       "<tr>\n",
       "  <th>ma.L4</th>     <td>    0.0137</td> <td>    0.009</td> <td>    1.459</td> <td> 0.145</td> <td>   -0.005</td> <td>    0.032</td>\n",
       "</tr>\n",
       "<tr>\n",
       "  <th>ar.S.L12</th>  <td>   -1.2939</td> <td>    0.127</td> <td>  -10.158</td> <td> 0.000</td> <td>   -1.544</td> <td>   -1.044</td>\n",
       "</tr>\n",
       "<tr>\n",
       "  <th>ar.S.L24</th>  <td>   -0.5753</td> <td>    0.093</td> <td>   -6.201</td> <td> 0.000</td> <td>   -0.757</td> <td>   -0.393</td>\n",
       "</tr>\n",
       "<tr>\n",
       "  <th>ma.S.L12</th>  <td>    1.2237</td> <td>    0.125</td> <td>    9.758</td> <td> 0.000</td> <td>    0.978</td> <td>    1.469</td>\n",
       "</tr>\n",
       "<tr>\n",
       "  <th>ma.S.L24</th>  <td>    0.5664</td> <td>    0.081</td> <td>    6.962</td> <td> 0.000</td> <td>    0.407</td> <td>    0.726</td>\n",
       "</tr>\n",
       "<tr>\n",
       "  <th>sigma2</th>    <td> 4.562e+05</td> <td> 3981.645</td> <td>  114.574</td> <td> 0.000</td> <td> 4.48e+05</td> <td> 4.64e+05</td>\n",
       "</tr>\n",
       "</table>\n",
       "<table class=\"simpletable\">\n",
       "<tr>\n",
       "  <th>Ljung-Box (L1) (Q):</th>      <td>0.00</td>   <th>  Jarque-Bera (JB):  </th> <td>64640.49</td>\n",
       "</tr>\n",
       "<tr>\n",
       "  <th>Prob(Q):</th>                 <td>0.99</td>   <th>  Prob(JB):          </th>   <td>0.00</td>  \n",
       "</tr>\n",
       "<tr>\n",
       "  <th>Heteroskedasticity (H):</th> <td>1758.48</td> <th>  Skew:              </th>   <td>-0.17</td> \n",
       "</tr>\n",
       "<tr>\n",
       "  <th>Prob(H) (two-sided):</th>     <td>0.00</td>   <th>  Kurtosis:          </th>   <td>27.64</td> \n",
       "</tr>\n",
       "</table><br/><br/>Warnings:<br/>[1] Covariance matrix calculated using the outer product of gradients (complex-step)."
      ],
      "text/plain": [
       "<class 'statsmodels.iolib.summary.Summary'>\n",
       "\"\"\"\n",
       "                                        SARIMAX Results                                        \n",
       "===============================================================================================\n",
       "Dep. Variable:                                       y   No. Observations:                 2556\n",
       "Model:             SARIMAX(3, 1, 4)x(2, 0, [1, 2], 12)   Log Likelihood              -20215.845\n",
       "Date:                                 Fri, 19 Nov 2021   AIC                          40457.689\n",
       "Time:                                         13:59:39   BIC                          40533.685\n",
       "Sample:                                              0   HQIC                         40485.249\n",
       "                                                - 2556                                         \n",
       "Covariance Type:                                   opg                                         \n",
       "==============================================================================\n",
       "                 coef    std err          z      P>|z|      [0.025      0.975]\n",
       "------------------------------------------------------------------------------\n",
       "intercept     16.6085     15.929      1.043      0.297     -14.611      47.828\n",
       "ar.L1          0.4128      0.047      8.748      0.000       0.320       0.505\n",
       "ar.L2         -0.5103      0.025    -20.612      0.000      -0.559      -0.462\n",
       "ar.L3          0.8470      0.045     18.876      0.000       0.759       0.935\n",
       "ma.L1         -0.4542      0.048     -9.416      0.000      -0.549      -0.360\n",
       "ma.L2          0.5964      0.026     23.032      0.000       0.546       0.647\n",
       "ma.L3         -0.8649      0.048    -18.105      0.000      -0.959      -0.771\n",
       "ma.L4          0.0137      0.009      1.459      0.145      -0.005       0.032\n",
       "ar.S.L12      -1.2939      0.127    -10.158      0.000      -1.544      -1.044\n",
       "ar.S.L24      -0.5753      0.093     -6.201      0.000      -0.757      -0.393\n",
       "ma.S.L12       1.2237      0.125      9.758      0.000       0.978       1.469\n",
       "ma.S.L24       0.5664      0.081      6.962      0.000       0.407       0.726\n",
       "sigma2      4.562e+05   3981.645    114.574      0.000    4.48e+05    4.64e+05\n",
       "===================================================================================\n",
       "Ljung-Box (L1) (Q):                   0.00   Jarque-Bera (JB):             64640.49\n",
       "Prob(Q):                              0.99   Prob(JB):                         0.00\n",
       "Heteroskedasticity (H):            1758.48   Skew:                            -0.17\n",
       "Prob(H) (two-sided):                  0.00   Kurtosis:                        27.64\n",
       "===================================================================================\n",
       "\n",
       "Warnings:\n",
       "[1] Covariance matrix calculated using the outer product of gradients (complex-step).\n",
       "\"\"\""
      ]
     },
     "execution_count": 35,
     "metadata": {},
     "output_type": "execute_result"
    }
   ],
   "source": [
    "model.summary()"
   ]
  },
  {
   "cell_type": "code",
   "execution_count": 37,
   "id": "6257e1dd",
   "metadata": {},
   "outputs": [],
   "source": [
    "test_pred, confint = model.predict(n_periods = Ntest, return_conf_int =True)"
   ]
  },
  {
   "cell_type": "code",
   "execution_count": 38,
   "id": "b482d0e1",
   "metadata": {},
   "outputs": [
    {
     "data": {
      "text/plain": [
       "array([[46123.23581925, 48770.83879058],\n",
       "       [46012.00838608, 49679.67009235],\n",
       "       [45745.26044217, 50311.94828614],\n",
       "       [45024.57790165, 50383.78855337],\n",
       "       [44801.25710911, 50797.5616701 ],\n",
       "       [44778.59588545, 51377.1734313 ],\n",
       "       [44300.15832349, 51512.13553917],\n",
       "       [43952.07469744, 51704.84601969],\n",
       "       [43957.30076113, 52197.64827614],\n",
       "       [43933.40491807, 52681.4667338 ],\n",
       "       [43585.75258719, 52823.42308428],\n",
       "       [43195.25306766, 52866.14891782],\n",
       "       [42897.32475149, 52948.71337325],\n",
       "       [42438.96888114, 52887.37452628],\n",
       "       [42125.24268631, 52932.59385172],\n",
       "       [42268.62429556, 53413.91331742],\n",
       "       [42067.91266794, 53571.24535797],\n",
       "       [41622.82242362, 53471.94530825],\n",
       "       [41726.89878505, 53889.45265808],\n",
       "       [41689.2548976 , 54172.38134592],\n",
       "       [41299.24964624, 54111.13797007],\n",
       "       [41019.03573208, 54132.50323102],\n",
       "       [41085.53006216, 54490.42122253],\n",
       "       [41117.45918146, 54828.17898651],\n",
       "       [41038.83025414, 55089.46087403],\n",
       "       [41098.83548056, 55463.67517289],\n",
       "       [41059.15842643, 55748.2290256 ],\n",
       "       [40701.99985681, 55718.90804433],\n",
       "       [40616.30304901, 55936.33911244],\n",
       "       [40747.1527324 , 56365.61853976],\n",
       "       [40379.55142065, 56308.50226436],\n",
       "       [40178.07559868, 56403.87002602],\n",
       "       [40289.3251531 , 56795.89165869],\n",
       "       [40229.98820721, 57026.11432969],\n",
       "       [39906.33231937, 56991.84855355],\n",
       "       [39724.88864817, 57081.43494058],\n",
       "       [39627.48110853, 57224.55055244],\n",
       "       [39403.77569005, 57250.52648993],\n",
       "       [39272.7916259 , 57356.4380087 ],\n",
       "       [39324.9901272 , 57635.53375856],\n",
       "       [39182.99252646, 57729.04695586],\n",
       "       [38906.78268594, 57685.98598274],\n",
       "       [39013.58362454, 58011.94092545],\n",
       "       [38973.09708046, 58192.55903387],\n",
       "       [38702.70396093, 58148.66984299],\n",
       "       [38632.21354593, 58293.88275856],\n",
       "       [38724.96131887, 58596.44099893],\n",
       "       [38617.98019823, 58706.12287811],\n",
       "       [38475.71427867, 58791.68488275],\n",
       "       [38459.33567686, 58991.81876088],\n",
       "       [38361.77920473, 59114.41800653],\n",
       "       [38191.25200157, 59167.33359025],\n",
       "       [38154.19770878, 59343.59619434],\n",
       "       [38176.49813942, 59576.02851155],\n",
       "       [37959.79351121, 59575.43710096],\n",
       "       [37853.53683678, 59680.57401451],\n",
       "       [37895.8951946 , 59926.37767284],\n",
       "       [37758.03518208, 59995.5373613 ],\n",
       "       [37550.63446609, 59996.36373596],\n",
       "       [37552.60354763, 60198.26807728]])"
      ]
     },
     "execution_count": 38,
     "metadata": {},
     "output_type": "execute_result"
    }
   ],
   "source": [
    "confint"
   ]
  },
  {
   "cell_type": "code",
   "execution_count": 39,
   "id": "e522a5e3",
   "metadata": {},
   "outputs": [
    {
     "data": {
      "text/plain": [
       "<matplotlib.legend.Legend at 0x1fe2fc702e0>"
      ]
     },
     "execution_count": 39,
     "metadata": {},
     "output_type": "execute_result"
    },
    {
     "data": {
      "image/png": "[encoded data removed]",
      "text/plain": [
       "<Figure size 720x360 with 1 Axes>"
      ]
     },
     "metadata": {
      "needs_background": "light"
     },
     "output_type": "display_data"
    }
   ],
   "source": [
    "fig, ax = plt.subplots(figsize = (10,5))\n",
    "ax.plot(test.index, test['Close'], label = 'data')\n",
    "ax.plot(test.index, test_pred, label = 'forecast')\n",
    "ax.fill_between(test.index,\\\n",
    "               confint[:,0], confint[:,1],\\\n",
    "               color = 'red', alpha=0.3)\n",
    "ax.legend()"
   ]
  },
  {
   "cell_type": "code",
   "execution_count": 40,
   "id": "a6f7dcb5",
   "metadata": {},
   "outputs": [
    {
     "ename": "ValueError",
     "evalue": "In-sample predictions undefined for start=0 when d=1",
     "output_type": "error",
     "traceback": [
      "\u001b[1;31m---------------------------------------------------------------------------\u001b[0m",
      "\u001b[1;31mValueError\u001b[0m                                Traceback (most recent call last)",
      "\u001b[1;32m~\\AppData\\Local\\Temp/ipykernel_11352/958050650.py\u001b[0m in \u001b[0;36m<module>\u001b[1;34m\u001b[0m\n\u001b[1;32m----> 1\u001b[1;33m \u001b[0mtrain_pred\u001b[0m \u001b[1;33m=\u001b[0m \u001b[0mmodel\u001b[0m\u001b[1;33m.\u001b[0m\u001b[0mpredict_in_sample\u001b[0m\u001b[1;33m(\u001b[0m\u001b[0mstart\u001b[0m \u001b[1;33m=\u001b[0m \u001b[1;36m0\u001b[0m\u001b[1;33m,\u001b[0m \u001b[0mend\u001b[0m \u001b[1;33m=\u001b[0m \u001b[1;33m-\u001b[0m\u001b[1;36m1\u001b[0m\u001b[1;33m)\u001b[0m\u001b[1;33m\u001b[0m\u001b[1;33m\u001b[0m\u001b[0m\n\u001b[0m\u001b[0;32m      2\u001b[0m \u001b[1;33m\u001b[0m\u001b[0m\n\u001b[0;32m      3\u001b[0m \u001b[0mfig\u001b[0m\u001b[1;33m,\u001b[0m \u001b[0max\u001b[0m \u001b[1;33m=\u001b[0m \u001b[0mplt\u001b[0m\u001b[1;33m.\u001b[0m\u001b[0msubplots\u001b[0m\u001b[1;33m(\u001b[0m\u001b[0mfigsize\u001b[0m \u001b[1;33m=\u001b[0m \u001b[1;33m(\u001b[0m\u001b[1;36m10\u001b[0m\u001b[1;33m,\u001b[0m\u001b[1;36m5\u001b[0m\u001b[1;33m)\u001b[0m\u001b[1;33m)\u001b[0m\u001b[1;33m\u001b[0m\u001b[1;33m\u001b[0m\u001b[0m\n\u001b[0;32m      4\u001b[0m \u001b[0max\u001b[0m\u001b[1;33m.\u001b[0m\u001b[0mplot\u001b[0m\u001b[1;33m(\u001b[0m\u001b[0mdf\u001b[0m\u001b[1;33m.\u001b[0m\u001b[0mindex\u001b[0m\u001b[1;33m,\u001b[0m \u001b[0mdf\u001b[0m\u001b[1;33m[\u001b[0m\u001b[1;34m'Close'\u001b[0m\u001b[1;33m]\u001b[0m\u001b[1;33m,\u001b[0m \u001b[0mlabel\u001b[0m \u001b[1;33m=\u001b[0m \u001b[1;34m'data'\u001b[0m\u001b[1;33m)\u001b[0m\u001b[1;33m\u001b[0m\u001b[1;33m\u001b[0m\u001b[0m\n\u001b[0;32m      5\u001b[0m \u001b[0max\u001b[0m\u001b[1;33m.\u001b[0m\u001b[0mplot\u001b[0m\u001b[1;33m(\u001b[0m\u001b[0mtrain\u001b[0m\u001b[1;33m.\u001b[0m\u001b[0mindex\u001b[0m\u001b[1;33m,\u001b[0m \u001b[0mtrain_pred\u001b[0m\u001b[1;33m,\u001b[0m \u001b[0mlabel\u001b[0m \u001b[1;33m=\u001b[0m \u001b[1;34m'fitted'\u001b[0m\u001b[1;33m)\u001b[0m\u001b[1;33m\u001b[0m\u001b[1;33m\u001b[0m\u001b[0m\n",
      "\u001b[1;32mC:\\ProgramData\\Anaconda3\\lib\\site-packages\\pmdarima\\arima\\arima.py\u001b[0m in \u001b[0;36mpredict_in_sample\u001b[1;34m(self, X, start, end, dynamic, return_conf_int, alpha, **kwargs)\u001b[0m\n\u001b[0;32m    698\u001b[0m         \u001b[0md\u001b[0m \u001b[1;33m=\u001b[0m \u001b[0mself\u001b[0m\u001b[1;33m.\u001b[0m\u001b[0morder\u001b[0m\u001b[1;33m[\u001b[0m\u001b[1;36m1\u001b[0m\u001b[1;33m]\u001b[0m\u001b[1;33m\u001b[0m\u001b[1;33m\u001b[0m\u001b[0m\n\u001b[0;32m    699\u001b[0m         \u001b[1;32mif\u001b[0m \u001b[0mstart\u001b[0m \u001b[1;32mis\u001b[0m \u001b[1;32mnot\u001b[0m \u001b[1;32mNone\u001b[0m \u001b[1;32mand\u001b[0m \u001b[0mstart\u001b[0m \u001b[1;33m<\u001b[0m \u001b[0md\u001b[0m\u001b[1;33m:\u001b[0m\u001b[1;33m\u001b[0m\u001b[1;33m\u001b[0m\u001b[0m\n\u001b[1;32m--> 700\u001b[1;33m             raise ValueError(\"In-sample predictions undefined for start={0} \"\n\u001b[0m\u001b[0;32m    701\u001b[0m                              \"when d={1}\".format(start, d))\n\u001b[0;32m    702\u001b[0m \u001b[1;33m\u001b[0m\u001b[0m\n",
      "\u001b[1;31mValueError\u001b[0m: In-sample predictions undefined for start=0 when d=1"
     ]
    }
   ],
   "source": [
    "train_pred = model.predict_in_sample(start = 0, end = -1)\n",
    "\n",
    "fig, ax = plt.subplots(figsize = (10,5))\n",
    "ax.plot(df.index, df['Close'], label = 'data')\n",
    "ax.plot(train.index, train_pred, label = 'fitted')\n",
    "ax.plot(test.index, test_pred, label = 'forecast')\n",
    "ax.fill_between(test.index, confint[:,0], confint[:,1],color = 'red', alpha=0.3)\n",
    "\n",
    "ax.legend()"
   ]
  },
  {
   "cell_type": "code",
   "execution_count": 41,
   "id": "35734ab0",
   "metadata": {},
   "outputs": [
    {
     "name": "stdout",
     "output_type": "stream",
     "text": [
      "Performing stepwise search to minimize aic\n",
      " ARIMA(2,1,2)(1,0,1)[12] intercept   : AIC=-9254.225, Time=10.29 sec\n",
      " ARIMA(0,1,0)(0,0,0)[12] intercept   : AIC=-9263.338, Time=0.16 sec\n",
      " ARIMA(1,1,0)(1,0,0)[12] intercept   : AIC=-9261.147, Time=0.46 sec\n",
      " ARIMA(0,1,1)(0,0,1)[12] intercept   : AIC=-9261.125, Time=1.10 sec\n",
      " ARIMA(0,1,0)(0,0,0)[12]             : AIC=-9259.936, Time=0.12 sec\n",
      " ARIMA(0,1,0)(1,0,0)[12] intercept   : AIC=-9261.685, Time=0.68 sec\n",
      " ARIMA(0,1,0)(0,0,1)[12] intercept   : AIC=-9261.677, Time=0.80 sec\n",
      " ARIMA(0,1,0)(1,0,1)[12] intercept   : AIC=-9259.979, Time=1.12 sec\n",
      " ARIMA(1,1,0)(0,0,0)[12] intercept   : AIC=-9262.816, Time=0.18 sec\n",
      " ARIMA(0,1,1)(0,0,0)[12] intercept   : AIC=-9262.790, Time=0.44 sec\n",
      " ARIMA(1,1,1)(0,0,0)[12] intercept   : AIC=-9260.882, Time=0.24 sec\n",
      "\n",
      "Best model:  ARIMA(0,1,0)(0,0,0)[12] intercept\n",
      "Total fit time: 15.614 seconds\n"
     ]
    }
   ],
   "source": [
    "logmodel = pm.auto_arima(train['LogClose'],\n",
    "                        trace = True,\n",
    "                        suppress_warnings = True,\n",
    "                        seasonal = True, m = 12)"
   ]
  },
  {
   "cell_type": "code",
   "execution_count": 42,
   "id": "71a65d46",
   "metadata": {},
   "outputs": [
    {
     "data": {
      "text/html": [
       "<table class=\"simpletable\">\n",
       "<caption>SARIMAX Results</caption>\n",
       "<tr>\n",
       "  <th>Dep. Variable:</th>           <td>y</td>        <th>  No. Observations:  </th>   <td>2556</td>   \n",
       "</tr>\n",
       "<tr>\n",
       "  <th>Model:</th>           <td>SARIMAX(0, 1, 0)</td> <th>  Log Likelihood     </th> <td>4633.669</td> \n",
       "</tr>\n",
       "<tr>\n",
       "  <th>Date:</th>            <td>Fri, 19 Nov 2021</td> <th>  AIC                </th> <td>-9263.338</td>\n",
       "</tr>\n",
       "<tr>\n",
       "  <th>Time:</th>                <td>14:01:04</td>     <th>  BIC                </th> <td>-9251.646</td>\n",
       "</tr>\n",
       "<tr>\n",
       "  <th>Sample:</th>                  <td>0</td>        <th>  HQIC               </th> <td>-9259.098</td>\n",
       "</tr>\n",
       "<tr>\n",
       "  <th></th>                      <td> - 2556</td>     <th>                     </th>     <td> </td>    \n",
       "</tr>\n",
       "<tr>\n",
       "  <th>Covariance Type:</th>        <td>opg</td>       <th>                     </th>     <td> </td>    \n",
       "</tr>\n",
       "</table>\n",
       "<table class=\"simpletable\">\n",
       "<tr>\n",
       "      <td></td>         <th>coef</th>     <th>std err</th>      <th>z</th>      <th>P>|z|</th>  <th>[0.025</th>    <th>0.975]</th>  \n",
       "</tr>\n",
       "<tr>\n",
       "  <th>intercept</th> <td>    0.0018</td> <td>    0.001</td> <td>    2.266</td> <td> 0.023</td> <td>    0.000</td> <td>    0.003</td>\n",
       "</tr>\n",
       "<tr>\n",
       "  <th>sigma2</th>    <td>    0.0016</td> <td> 1.72e-05</td> <td>   90.465</td> <td> 0.000</td> <td>    0.002</td> <td>    0.002</td>\n",
       "</tr>\n",
       "</table>\n",
       "<table class=\"simpletable\">\n",
       "<tr>\n",
       "  <th>Ljung-Box (L1) (Q):</th>     <td>1.48</td> <th>  Jarque-Bera (JB):  </th> <td>14334.77</td>\n",
       "</tr>\n",
       "<tr>\n",
       "  <th>Prob(Q):</th>                <td>0.22</td> <th>  Prob(JB):          </th>   <td>0.00</td>  \n",
       "</tr>\n",
       "<tr>\n",
       "  <th>Heteroskedasticity (H):</th> <td>1.57</td> <th>  Skew:              </th>   <td>-0.82</td> \n",
       "</tr>\n",
       "<tr>\n",
       "  <th>Prob(H) (two-sided):</th>    <td>0.00</td> <th>  Kurtosis:          </th>   <td>14.49</td> \n",
       "</tr>\n",
       "</table><br/><br/>Warnings:<br/>[1] Covariance matrix calculated using the outer product of gradients (complex-step)."
      ],
      "text/plain": [
       "<class 'statsmodels.iolib.summary.Summary'>\n",
       "\"\"\"\n",
       "                               SARIMAX Results                                \n",
       "==============================================================================\n",
       "Dep. Variable:                      y   No. Observations:                 2556\n",
       "Model:               SARIMAX(0, 1, 0)   Log Likelihood                4633.669\n",
       "Date:                Fri, 19 Nov 2021   AIC                          -9263.338\n",
       "Time:                        14:01:04   BIC                          -9251.646\n",
       "Sample:                             0   HQIC                         -9259.098\n",
       "                               - 2556                                         \n",
       "Covariance Type:                  opg                                         \n",
       "==============================================================================\n",
       "                 coef    std err          z      P>|z|      [0.025      0.975]\n",
       "------------------------------------------------------------------------------\n",
       "intercept      0.0018      0.001      2.266      0.023       0.000       0.003\n",
       "sigma2         0.0016   1.72e-05     90.465      0.000       0.002       0.002\n",
       "===================================================================================\n",
       "Ljung-Box (L1) (Q):                   1.48   Jarque-Bera (JB):             14334.77\n",
       "Prob(Q):                              0.22   Prob(JB):                         0.00\n",
       "Heteroskedasticity (H):               1.57   Skew:                            -0.82\n",
       "Prob(H) (two-sided):                  0.00   Kurtosis:                        14.49\n",
       "===================================================================================\n",
       "\n",
       "Warnings:\n",
       "[1] Covariance matrix calculated using the outer product of gradients (complex-step).\n",
       "\"\"\""
      ]
     },
     "execution_count": 42,
     "metadata": {},
     "output_type": "execute_result"
    }
   ],
   "source": [
    "logmodel.summary()"
   ]
  },
  {
   "cell_type": "code",
   "execution_count": 43,
   "id": "2a428935",
   "metadata": {},
   "outputs": [
    {
     "ename": "ValueError",
     "evalue": "x and y must have same first dimension, but have shapes (60,) and (10,)",
     "output_type": "error",
     "traceback": [
      "\u001b[1;31m---------------------------------------------------------------------------\u001b[0m",
      "\u001b[1;31mValueError\u001b[0m                                Traceback (most recent call last)",
      "\u001b[1;32m~\\AppData\\Local\\Temp/ipykernel_11352/1221111003.py\u001b[0m in \u001b[0;36m<module>\u001b[1;34m\u001b[0m\n\u001b[0;32m      2\u001b[0m \u001b[0mfig\u001b[0m\u001b[1;33m,\u001b[0m \u001b[0max\u001b[0m \u001b[1;33m=\u001b[0m \u001b[0mplt\u001b[0m\u001b[1;33m.\u001b[0m\u001b[0msubplots\u001b[0m\u001b[1;33m(\u001b[0m\u001b[0mfigsize\u001b[0m\u001b[1;33m=\u001b[0m\u001b[1;33m(\u001b[0m\u001b[1;36m10\u001b[0m\u001b[1;33m,\u001b[0m\u001b[1;36m5\u001b[0m\u001b[1;33m)\u001b[0m\u001b[1;33m)\u001b[0m\u001b[1;33m\u001b[0m\u001b[1;33m\u001b[0m\u001b[0m\n\u001b[0;32m      3\u001b[0m \u001b[0max\u001b[0m\u001b[1;33m.\u001b[0m\u001b[0mplot\u001b[0m\u001b[1;33m(\u001b[0m\u001b[0mtest\u001b[0m\u001b[1;33m.\u001b[0m\u001b[0mindex\u001b[0m\u001b[1;33m,\u001b[0m \u001b[0mtest\u001b[0m\u001b[1;33m[\u001b[0m\u001b[1;34m'LogClose'\u001b[0m\u001b[1;33m]\u001b[0m\u001b[1;33m,\u001b[0m \u001b[0mlabel\u001b[0m \u001b[1;33m=\u001b[0m \u001b[1;34m'data'\u001b[0m\u001b[1;33m)\u001b[0m\u001b[1;33m\u001b[0m\u001b[1;33m\u001b[0m\u001b[0m\n\u001b[1;32m----> 4\u001b[1;33m \u001b[0max\u001b[0m\u001b[1;33m.\u001b[0m\u001b[0mplot\u001b[0m\u001b[1;33m(\u001b[0m\u001b[0mtest\u001b[0m\u001b[1;33m.\u001b[0m\u001b[0mindex\u001b[0m\u001b[1;33m,\u001b[0m \u001b[0mtest_pred_log\u001b[0m\u001b[1;33m,\u001b[0m \u001b[0mlabel\u001b[0m \u001b[1;33m=\u001b[0m \u001b[1;34m'forecast'\u001b[0m\u001b[1;33m)\u001b[0m\u001b[1;33m\u001b[0m\u001b[1;33m\u001b[0m\u001b[0m\n\u001b[0m\u001b[0;32m      5\u001b[0m ax.fill_between(test.index,\\\n\u001b[0;32m      6\u001b[0m                \u001b[0mconfit\u001b[0m\u001b[1;33m[\u001b[0m\u001b[1;33m:\u001b[0m\u001b[1;33m,\u001b[0m\u001b[1;36m0\u001b[0m\u001b[1;33m]\u001b[0m\u001b[1;33m,\u001b[0m \u001b[0mconfint\u001b[0m\u001b[1;33m[\u001b[0m\u001b[1;33m:\u001b[0m\u001b[1;33m,\u001b[0m\u001b[1;36m1\u001b[0m\u001b[1;33m]\u001b[0m\u001b[1;33m,\u001b[0m\u001b[0;31m\\\u001b[0m\u001b[1;33m\u001b[0m\u001b[1;33m\u001b[0m\u001b[0m\n",
      "\u001b[1;32mC:\\ProgramData\\Anaconda3\\lib\\site-packages\\matplotlib\\axes\\_axes.py\u001b[0m in \u001b[0;36mplot\u001b[1;34m(self, scalex, scaley, data, *args, **kwargs)\u001b[0m\n\u001b[0;32m   1741\u001b[0m         \"\"\"\n\u001b[0;32m   1742\u001b[0m         \u001b[0mkwargs\u001b[0m \u001b[1;33m=\u001b[0m \u001b[0mcbook\u001b[0m\u001b[1;33m.\u001b[0m\u001b[0mnormalize_kwargs\u001b[0m\u001b[1;33m(\u001b[0m\u001b[0mkwargs\u001b[0m\u001b[1;33m,\u001b[0m \u001b[0mmlines\u001b[0m\u001b[1;33m.\u001b[0m\u001b[0mLine2D\u001b[0m\u001b[1;33m)\u001b[0m\u001b[1;33m\u001b[0m\u001b[1;33m\u001b[0m\u001b[0m\n\u001b[1;32m-> 1743\u001b[1;33m         \u001b[0mlines\u001b[0m \u001b[1;33m=\u001b[0m \u001b[1;33m[\u001b[0m\u001b[1;33m*\u001b[0m\u001b[0mself\u001b[0m\u001b[1;33m.\u001b[0m\u001b[0m_get_lines\u001b[0m\u001b[1;33m(\u001b[0m\u001b[1;33m*\u001b[0m\u001b[0margs\u001b[0m\u001b[1;33m,\u001b[0m \u001b[0mdata\u001b[0m\u001b[1;33m=\u001b[0m\u001b[0mdata\u001b[0m\u001b[1;33m,\u001b[0m \u001b[1;33m**\u001b[0m\u001b[0mkwargs\u001b[0m\u001b[1;33m)\u001b[0m\u001b[1;33m]\u001b[0m\u001b[1;33m\u001b[0m\u001b[1;33m\u001b[0m\u001b[0m\n\u001b[0m\u001b[0;32m   1744\u001b[0m         \u001b[1;32mfor\u001b[0m \u001b[0mline\u001b[0m \u001b[1;32min\u001b[0m \u001b[0mlines\u001b[0m\u001b[1;33m:\u001b[0m\u001b[1;33m\u001b[0m\u001b[1;33m\u001b[0m\u001b[0m\n\u001b[0;32m   1745\u001b[0m             \u001b[0mself\u001b[0m\u001b[1;33m.\u001b[0m\u001b[0madd_line\u001b[0m\u001b[1;33m(\u001b[0m\u001b[0mline\u001b[0m\u001b[1;33m)\u001b[0m\u001b[1;33m\u001b[0m\u001b[1;33m\u001b[0m\u001b[0m\n",
      "\u001b[1;32mC:\\ProgramData\\Anaconda3\\lib\\site-packages\\matplotlib\\axes\\_base.py\u001b[0m in \u001b[0;36m__call__\u001b[1;34m(self, data, *args, **kwargs)\u001b[0m\n\u001b[0;32m    271\u001b[0m                 \u001b[0mthis\u001b[0m \u001b[1;33m+=\u001b[0m \u001b[0margs\u001b[0m\u001b[1;33m[\u001b[0m\u001b[1;36m0\u001b[0m\u001b[1;33m]\u001b[0m\u001b[1;33m,\u001b[0m\u001b[1;33m\u001b[0m\u001b[1;33m\u001b[0m\u001b[0m\n\u001b[0;32m    272\u001b[0m                 \u001b[0margs\u001b[0m \u001b[1;33m=\u001b[0m \u001b[0margs\u001b[0m\u001b[1;33m[\u001b[0m\u001b[1;36m1\u001b[0m\u001b[1;33m:\u001b[0m\u001b[1;33m]\u001b[0m\u001b[1;33m\u001b[0m\u001b[1;33m\u001b[0m\u001b[0m\n\u001b[1;32m--> 273\u001b[1;33m             \u001b[1;32myield\u001b[0m \u001b[1;32mfrom\u001b[0m \u001b[0mself\u001b[0m\u001b[1;33m.\u001b[0m\u001b[0m_plot_args\u001b[0m\u001b[1;33m(\u001b[0m\u001b[0mthis\u001b[0m\u001b[1;33m,\u001b[0m \u001b[0mkwargs\u001b[0m\u001b[1;33m)\u001b[0m\u001b[1;33m\u001b[0m\u001b[1;33m\u001b[0m\u001b[0m\n\u001b[0m\u001b[0;32m    274\u001b[0m \u001b[1;33m\u001b[0m\u001b[0m\n\u001b[0;32m    275\u001b[0m     \u001b[1;32mdef\u001b[0m \u001b[0mget_next_color\u001b[0m\u001b[1;33m(\u001b[0m\u001b[0mself\u001b[0m\u001b[1;33m)\u001b[0m\u001b[1;33m:\u001b[0m\u001b[1;33m\u001b[0m\u001b[1;33m\u001b[0m\u001b[0m\n",
      "\u001b[1;32mC:\\ProgramData\\Anaconda3\\lib\\site-packages\\matplotlib\\axes\\_base.py\u001b[0m in \u001b[0;36m_plot_args\u001b[1;34m(self, tup, kwargs)\u001b[0m\n\u001b[0;32m    397\u001b[0m \u001b[1;33m\u001b[0m\u001b[0m\n\u001b[0;32m    398\u001b[0m         \u001b[1;32mif\u001b[0m \u001b[0mx\u001b[0m\u001b[1;33m.\u001b[0m\u001b[0mshape\u001b[0m\u001b[1;33m[\u001b[0m\u001b[1;36m0\u001b[0m\u001b[1;33m]\u001b[0m \u001b[1;33m!=\u001b[0m \u001b[0my\u001b[0m\u001b[1;33m.\u001b[0m\u001b[0mshape\u001b[0m\u001b[1;33m[\u001b[0m\u001b[1;36m0\u001b[0m\u001b[1;33m]\u001b[0m\u001b[1;33m:\u001b[0m\u001b[1;33m\u001b[0m\u001b[1;33m\u001b[0m\u001b[0m\n\u001b[1;32m--> 399\u001b[1;33m             raise ValueError(f\"x and y must have same first dimension, but \"\n\u001b[0m\u001b[0;32m    400\u001b[0m                              f\"have shapes {x.shape} and {y.shape}\")\n\u001b[0;32m    401\u001b[0m         \u001b[1;32mif\u001b[0m \u001b[0mx\u001b[0m\u001b[1;33m.\u001b[0m\u001b[0mndim\u001b[0m \u001b[1;33m>\u001b[0m \u001b[1;36m2\u001b[0m \u001b[1;32mor\u001b[0m \u001b[0my\u001b[0m\u001b[1;33m.\u001b[0m\u001b[0mndim\u001b[0m \u001b[1;33m>\u001b[0m \u001b[1;36m2\u001b[0m\u001b[1;33m:\u001b[0m\u001b[1;33m\u001b[0m\u001b[1;33m\u001b[0m\u001b[0m\n",
      "\u001b[1;31mValueError\u001b[0m: x and y must have same first dimension, but have shapes (60,) and (10,)"
     ]
    },
    {
     "data": {
      "image/png": "[encoded data removed]",
      "text/plain": [
       "<Figure size 720x360 with 1 Axes>"
      ]
     },
     "metadata": {
      "needs_background": "light"
     },
     "output_type": "display_data"
    }
   ],
   "source": [
    "test_pred_log, confint = logmodel.predict(n_preiods=Ntest, return_conf_int=True)\n",
    "fig, ax = plt.subplots(figsize=(10,5))\n",
    "ax.plot(test.index, test['LogClose'], label = 'data')\n",
    "ax.plot(test.index, test_pred_log, label = 'forecast')\n",
    "ax.fill_between(test.index,\\\n",
    "               confit[:,0], confint[:,1],\\\n",
    "               color='red', alpha=0.3)\n",
    "ax.legend()"
   ]
  },
  {
   "cell_type": "code",
   "execution_count": null,
   "id": "c0ce26a7",
   "metadata": {},
   "outputs": [],
   "source": []
  },
  {
   "cell_type": "code",
   "execution_count": null,
   "id": "8e844a92",
   "metadata": {},
   "outputs": [],
   "source": []
  },
  {
   "cell_type": "code",
   "execution_count": null,
   "id": "030df030",
   "metadata": {},
   "outputs": [],
   "source": []
  },
  {
   "cell_type": "code",
   "execution_count": null,
   "id": "05c59bf8",
   "metadata": {},
   "outputs": [],
   "source": []
  },
  {
   "cell_type": "code",
   "execution_count": 67,
   "id": "a924d598",
   "metadata": {},
   "outputs": [
    {
     "name": "stdout",
     "output_type": "stream",
     "text": [
      " ARIMA(0,0,0)(0,0,0)[0]             : AIC=18227.402, Time=0.02 sec\n",
      " ARIMA(0,0,1)(0,0,0)[0]             : AIC=inf, Time=0.21 sec\n",
      " ARIMA(0,0,2)(0,0,0)[0]             : AIC=11280.243, Time=0.48 sec\n",
      " ARIMA(1,0,0)(0,0,0)[0]             : AIC=inf, Time=0.52 sec\n",
      " ARIMA(1,0,1)(0,0,0)[0]             : AIC=-9350.821, Time=0.89 sec\n",
      " ARIMA(1,0,2)(0,0,0)[0]             : AIC=-9349.027, Time=1.19 sec\n",
      " ARIMA(2,0,0)(0,0,0)[0]             : AIC=inf, Time=1.05 sec\n",
      " ARIMA(2,0,1)(0,0,0)[0]             : AIC=inf, Time=1.25 sec\n",
      " ARIMA(2,0,2)(0,0,0)[0]             : AIC=-9328.134, Time=1.25 sec\n",
      " ARIMA(3,0,0)(0,0,0)[0]             : AIC=inf, Time=1.22 sec\n",
      " ARIMA(3,0,1)(0,0,0)[0]             : AIC=inf, Time=1.35 sec\n",
      " ARIMA(3,0,2)(0,0,0)[0]             : AIC=-9176.415, Time=2.20 sec\n",
      " ARIMA(4,0,0)(0,0,0)[0]             : AIC=inf, Time=1.55 sec\n",
      " ARIMA(4,0,1)(0,0,0)[0]             : AIC=inf, Time=1.72 sec\n",
      " ARIMA(4,0,2)(0,0,0)[0]             : AIC=-9350.866, Time=2.06 sec\n",
      " ARIMA(5,0,0)(0,0,0)[0]             : AIC=inf, Time=1.86 sec\n",
      " ARIMA(5,0,1)(0,0,0)[0]             : AIC=inf, Time=2.26 sec\n",
      " ARIMA(5,0,2)(0,0,0)[0]             : AIC=-9351.852, Time=2.41 sec\n",
      " ARIMA(6,0,0)(0,0,0)[0]             : AIC=inf, Time=2.23 sec\n",
      " ARIMA(6,0,1)(0,0,0)[0]             : AIC=inf, Time=2.79 sec\n",
      " ARIMA(6,0,2)(0,0,0)[0]             : AIC=-9329.196, Time=3.14 sec\n",
      " ARIMA(7,0,0)(0,0,0)[0]             : AIC=inf, Time=2.91 sec\n",
      " ARIMA(7,0,1)(0,0,0)[0]             : AIC=18.000, Time=0.89 sec\n",
      " ARIMA(7,0,2)(0,0,0)[0]             : AIC=-9331.778, Time=3.46 sec\n",
      " ARIMA(8,0,0)(0,0,0)[0]             : AIC=inf, Time=3.27 sec\n",
      " ARIMA(8,0,1)(0,0,0)[0]             : AIC=-9338.978, Time=3.69 sec\n",
      " ARIMA(8,0,2)(0,0,0)[0]             : AIC=-9326.548, Time=3.90 sec\n",
      " ARIMA(9,0,0)(0,0,0)[0]             : AIC=inf, Time=3.29 sec\n",
      " ARIMA(9,0,1)(0,0,0)[0]             : AIC=-9196.841, Time=4.13 sec\n",
      " ARIMA(9,0,2)(0,0,0)[0]             : AIC=-9304.448, Time=4.26 sec\n",
      " ARIMA(10,0,0)(0,0,0)[0]             : AIC=inf, Time=4.21 sec\n",
      " ARIMA(10,0,1)(0,0,0)[0]             : AIC=-9328.698, Time=5.13 sec\n",
      " ARIMA(10,0,2)(0,0,0)[0]             : AIC=-9329.998, Time=4.91 sec\n",
      " ARIMA(11,0,0)(0,0,0)[0]             : AIC=inf, Time=5.02 sec\n",
      " ARIMA(11,0,1)(0,0,0)[0]             : AIC=26.000, Time=1.45 sec\n",
      " ARIMA(11,0,2)(0,0,0)[0]             : AIC=-9217.352, Time=5.47 sec\n",
      " ARIMA(12,0,0)(0,0,0)[0]             : AIC=inf, Time=5.32 sec\n",
      " ARIMA(12,0,1)(0,0,0)[0]             : AIC=-9067.265, Time=5.53 sec\n",
      " ARIMA(12,0,2)(0,0,0)[0]             : AIC=-9327.399, Time=5.86 sec\n",
      "\n",
      "Best model:  ARIMA(5,0,2)(0,0,0)[0]          \n",
      "Total fit time: 104.387 seconds\n"
     ]
    }
   ],
   "source": [
    "### non-seasonal\n",
    "model = pm.auto_arima(train['LogClose'],\n",
    "                      trace=True,\n",
    "                      suppress_warnings=True,\n",
    "                      d=0,\n",
    "                      max_p=12, max_q=2, max_order=14,\n",
    "                      stepwise=False,\n",
    "                      seasonal=False)"
   ]
  },
  {
   "cell_type": "code",
   "execution_count": 68,
   "id": "e57f1b38",
   "metadata": {},
   "outputs": [
    {
     "data": {
      "text/html": [
       "<table class=\"simpletable\">\n",
       "<caption>SARIMAX Results</caption>\n",
       "<tr>\n",
       "  <th>Dep. Variable:</th>           <td>y</td>        <th>  No. Observations:  </th>   <td>2585</td>   \n",
       "</tr>\n",
       "<tr>\n",
       "  <th>Model:</th>           <td>SARIMAX(5, 0, 2)</td> <th>  Log Likelihood     </th> <td>4683.926</td> \n",
       "</tr>\n",
       "<tr>\n",
       "  <th>Date:</th>            <td>Thu, 18 Nov 2021</td> <th>  AIC                </th> <td>-9351.852</td>\n",
       "</tr>\n",
       "<tr>\n",
       "  <th>Time:</th>                <td>15:07:11</td>     <th>  BIC                </th> <td>-9304.992</td>\n",
       "</tr>\n",
       "<tr>\n",
       "  <th>Sample:</th>                  <td>0</td>        <th>  HQIC               </th> <td>-9334.868</td>\n",
       "</tr>\n",
       "<tr>\n",
       "  <th></th>                      <td> - 2585</td>     <th>                     </th>     <td> </td>    \n",
       "</tr>\n",
       "<tr>\n",
       "  <th>Covariance Type:</th>        <td>opg</td>       <th>                     </th>     <td> </td>    \n",
       "</tr>\n",
       "</table>\n",
       "<table class=\"simpletable\">\n",
       "<tr>\n",
       "     <td></td>       <th>coef</th>     <th>std err</th>      <th>z</th>      <th>P>|z|</th>  <th>[0.025</th>    <th>0.975]</th>  \n",
       "</tr>\n",
       "<tr>\n",
       "  <th>ar.L1</th>  <td>   -0.8578</td> <td>    0.033</td> <td>  -26.160</td> <td> 0.000</td> <td>   -0.922</td> <td>   -0.794</td>\n",
       "</tr>\n",
       "<tr>\n",
       "  <th>ar.L2</th>  <td>    0.8749</td> <td>    0.021</td> <td>   41.377</td> <td> 0.000</td> <td>    0.833</td> <td>    0.916</td>\n",
       "</tr>\n",
       "<tr>\n",
       "  <th>ar.L3</th>  <td>    0.9775</td> <td>    0.035</td> <td>   27.995</td> <td> 0.000</td> <td>    0.909</td> <td>    1.046</td>\n",
       "</tr>\n",
       "<tr>\n",
       "  <th>ar.L4</th>  <td>    0.0187</td> <td>    0.018</td> <td>    1.046</td> <td> 0.296</td> <td>   -0.016</td> <td>    0.054</td>\n",
       "</tr>\n",
       "<tr>\n",
       "  <th>ar.L5</th>  <td>   -0.0133</td> <td>    0.016</td> <td>   -0.813</td> <td> 0.416</td> <td>   -0.045</td> <td>    0.019</td>\n",
       "</tr>\n",
       "<tr>\n",
       "  <th>ma.L1</th>  <td>    1.8395</td> <td>    0.030</td> <td>   60.407</td> <td> 0.000</td> <td>    1.780</td> <td>    1.899</td>\n",
       "</tr>\n",
       "<tr>\n",
       "  <th>ma.L2</th>  <td>    0.9560</td> <td>    0.029</td> <td>   32.528</td> <td> 0.000</td> <td>    0.898</td> <td>    1.014</td>\n",
       "</tr>\n",
       "<tr>\n",
       "  <th>sigma2</th> <td>    0.0016</td> <td> 1.88e-05</td> <td>   82.867</td> <td> 0.000</td> <td>    0.002</td> <td>    0.002</td>\n",
       "</tr>\n",
       "</table>\n",
       "<table class=\"simpletable\">\n",
       "<tr>\n",
       "  <th>Ljung-Box (L1) (Q):</th>     <td>0.00</td> <th>  Jarque-Bera (JB):  </th> <td>13642.66</td>\n",
       "</tr>\n",
       "<tr>\n",
       "  <th>Prob(Q):</th>                <td>0.99</td> <th>  Prob(JB):          </th>   <td>0.00</td>  \n",
       "</tr>\n",
       "<tr>\n",
       "  <th>Heteroskedasticity (H):</th> <td>1.56</td> <th>  Skew:              </th>   <td>-0.82</td> \n",
       "</tr>\n",
       "<tr>\n",
       "  <th>Prob(H) (two-sided):</th>    <td>0.00</td> <th>  Kurtosis:          </th>   <td>14.13</td> \n",
       "</tr>\n",
       "</table><br/><br/>Warnings:<br/>[1] Covariance matrix calculated using the outer product of gradients (complex-step)."
      ],
      "text/plain": [
       "<class 'statsmodels.iolib.summary.Summary'>\n",
       "\"\"\"\n",
       "                               SARIMAX Results                                \n",
       "==============================================================================\n",
       "Dep. Variable:                      y   No. Observations:                 2585\n",
       "Model:               SARIMAX(5, 0, 2)   Log Likelihood                4683.926\n",
       "Date:                Thu, 18 Nov 2021   AIC                          -9351.852\n",
       "Time:                        15:07:11   BIC                          -9304.992\n",
       "Sample:                             0   HQIC                         -9334.868\n",
       "                               - 2585                                         \n",
       "Covariance Type:                  opg                                         \n",
       "==============================================================================\n",
       "                 coef    std err          z      P>|z|      [0.025      0.975]\n",
       "------------------------------------------------------------------------------\n",
       "ar.L1         -0.8578      0.033    -26.160      0.000      -0.922      -0.794\n",
       "ar.L2          0.8749      0.021     41.377      0.000       0.833       0.916\n",
       "ar.L3          0.9775      0.035     27.995      0.000       0.909       1.046\n",
       "ar.L4          0.0187      0.018      1.046      0.296      -0.016       0.054\n",
       "ar.L5         -0.0133      0.016     -0.813      0.416      -0.045       0.019\n",
       "ma.L1          1.8395      0.030     60.407      0.000       1.780       1.899\n",
       "ma.L2          0.9560      0.029     32.528      0.000       0.898       1.014\n",
       "sigma2         0.0016   1.88e-05     82.867      0.000       0.002       0.002\n",
       "===================================================================================\n",
       "Ljung-Box (L1) (Q):                   0.00   Jarque-Bera (JB):             13642.66\n",
       "Prob(Q):                              0.99   Prob(JB):                         0.00\n",
       "Heteroskedasticity (H):               1.56   Skew:                            -0.82\n",
       "Prob(H) (two-sided):                  0.00   Kurtosis:                        14.13\n",
       "===================================================================================\n",
       "\n",
       "Warnings:\n",
       "[1] Covariance matrix calculated using the outer product of gradients (complex-step).\n",
       "\"\"\""
      ]
     },
     "execution_count": 68,
     "metadata": {},
     "output_type": "execute_result"
    }
   ],
   "source": [
    "model.summary()"
   ]
  },
  {
   "cell_type": "code",
   "execution_count": 71,
   "id": "535d0ea7",
   "metadata": {},
   "outputs": [
    {
     "data": {
      "image/png": "[encoded data removed]",
      "text/plain": [
       "<Figure size 720x360 with 1 Axes>"
      ]
     },
     "metadata": {
      "needs_background": "light"
     },
     "output_type": "display_data"
    }
   ],
   "source": [
    "test_pred, confint = model.predict(n_periods=Ntest, return_conf_int=True)\n",
    "fig, ax = plt.subplots(figsize=(10, 5))\n",
    "ax.plot(test.index, test['LogClose'], label='data')\n",
    "ax.plot(test.index, test_pred, label='forecast')\n",
    "ax.fill_between(test.index, \\\n",
    "                confint[:,0], confint[:,1], \\\n",
    "                color='red', alpha=0.3)\n",
    "ax.legend();"
   ]
  },
  {
   "cell_type": "code",
   "execution_count": 77,
   "id": "82958f1a",
   "metadata": {},
   "outputs": [
    {
     "ename": "ValueError",
     "evalue": "x and y must have same first dimension, but have shapes (2615,) and (100,)",
     "output_type": "error",
     "traceback": [
      "\u001b[1;31m---------------------------------------------------------------------------\u001b[0m",
      "\u001b[1;31mValueError\u001b[0m                                Traceback (most recent call last)",
      "\u001b[1;32m~\\AppData\\Local\\Temp/ipykernel_12304/3447805581.py\u001b[0m in \u001b[0;36m<module>\u001b[1;34m\u001b[0m\n\u001b[0;32m      2\u001b[0m \u001b[1;33m\u001b[0m\u001b[0m\n\u001b[0;32m      3\u001b[0m \u001b[0mfig\u001b[0m\u001b[1;33m,\u001b[0m \u001b[0max\u001b[0m \u001b[1;33m=\u001b[0m \u001b[0mplt\u001b[0m\u001b[1;33m.\u001b[0m\u001b[0msubplots\u001b[0m\u001b[1;33m(\u001b[0m\u001b[0mfigsize\u001b[0m\u001b[1;33m=\u001b[0m\u001b[1;33m(\u001b[0m\u001b[1;36m10\u001b[0m\u001b[1;33m,\u001b[0m \u001b[1;36m5\u001b[0m\u001b[1;33m)\u001b[0m\u001b[1;33m)\u001b[0m\u001b[1;33m\u001b[0m\u001b[1;33m\u001b[0m\u001b[0m\n\u001b[1;32m----> 4\u001b[1;33m \u001b[0max\u001b[0m\u001b[1;33m.\u001b[0m\u001b[0mplot\u001b[0m\u001b[1;33m(\u001b[0m\u001b[0mdf\u001b[0m\u001b[1;33m.\u001b[0m\u001b[0mindex\u001b[0m\u001b[1;33m,\u001b[0m \u001b[0mdf\u001b[0m\u001b[1;33m[\u001b[0m\u001b[1;33m-\u001b[0m\u001b[1;36m100\u001b[0m\u001b[1;33m:\u001b[0m\u001b[1;33m]\u001b[0m\u001b[1;33m[\u001b[0m\u001b[1;34m'LogClose'\u001b[0m\u001b[1;33m]\u001b[0m\u001b[1;33m,\u001b[0m \u001b[0mlabel\u001b[0m\u001b[1;33m=\u001b[0m\u001b[1;34m'data'\u001b[0m\u001b[1;33m)\u001b[0m\u001b[1;33m\u001b[0m\u001b[1;33m\u001b[0m\u001b[0m\n\u001b[0m\u001b[0;32m      5\u001b[0m \u001b[0max\u001b[0m\u001b[1;33m.\u001b[0m\u001b[0mplot\u001b[0m\u001b[1;33m(\u001b[0m\u001b[0mtrain\u001b[0m\u001b[1;33m.\u001b[0m\u001b[0mindex\u001b[0m\u001b[1;33m[\u001b[0m\u001b[1;36m1\u001b[0m\u001b[1;33m:\u001b[0m\u001b[1;33m]\u001b[0m\u001b[1;33m,\u001b[0m \u001b[0mtrain_pred\u001b[0m\u001b[1;33m[\u001b[0m\u001b[1;33m-\u001b[0m\u001b[1;36m100\u001b[0m\u001b[1;33m:\u001b[0m\u001b[1;33m]\u001b[0m\u001b[1;33m,\u001b[0m \u001b[0mlabel\u001b[0m\u001b[1;33m=\u001b[0m\u001b[1;34m'fitted'\u001b[0m\u001b[1;33m)\u001b[0m\u001b[1;33m\u001b[0m\u001b[1;33m\u001b[0m\u001b[0m\n\u001b[0;32m      6\u001b[0m \u001b[0max\u001b[0m\u001b[1;33m.\u001b[0m\u001b[0mplot\u001b[0m\u001b[1;33m(\u001b[0m\u001b[0mtest\u001b[0m\u001b[1;33m.\u001b[0m\u001b[0mindex\u001b[0m\u001b[1;33m,\u001b[0m \u001b[0mtest_pred\u001b[0m\u001b[1;33m,\u001b[0m \u001b[0mlabel\u001b[0m\u001b[1;33m=\u001b[0m\u001b[1;34m'forecast'\u001b[0m\u001b[1;33m)\u001b[0m\u001b[1;33m\u001b[0m\u001b[1;33m\u001b[0m\u001b[0m\n",
      "\u001b[1;32mC:\\ProgramData\\Anaconda3\\lib\\site-packages\\matplotlib\\axes\\_axes.py\u001b[0m in \u001b[0;36mplot\u001b[1;34m(self, scalex, scaley, data, *args, **kwargs)\u001b[0m\n\u001b[0;32m   1741\u001b[0m         \"\"\"\n\u001b[0;32m   1742\u001b[0m         \u001b[0mkwargs\u001b[0m \u001b[1;33m=\u001b[0m \u001b[0mcbook\u001b[0m\u001b[1;33m.\u001b[0m\u001b[0mnormalize_kwargs\u001b[0m\u001b[1;33m(\u001b[0m\u001b[0mkwargs\u001b[0m\u001b[1;33m,\u001b[0m \u001b[0mmlines\u001b[0m\u001b[1;33m.\u001b[0m\u001b[0mLine2D\u001b[0m\u001b[1;33m)\u001b[0m\u001b[1;33m\u001b[0m\u001b[1;33m\u001b[0m\u001b[0m\n\u001b[1;32m-> 1743\u001b[1;33m         \u001b[0mlines\u001b[0m \u001b[1;33m=\u001b[0m \u001b[1;33m[\u001b[0m\u001b[1;33m*\u001b[0m\u001b[0mself\u001b[0m\u001b[1;33m.\u001b[0m\u001b[0m_get_lines\u001b[0m\u001b[1;33m(\u001b[0m\u001b[1;33m*\u001b[0m\u001b[0margs\u001b[0m\u001b[1;33m,\u001b[0m \u001b[0mdata\u001b[0m\u001b[1;33m=\u001b[0m\u001b[0mdata\u001b[0m\u001b[1;33m,\u001b[0m \u001b[1;33m**\u001b[0m\u001b[0mkwargs\u001b[0m\u001b[1;33m)\u001b[0m\u001b[1;33m]\u001b[0m\u001b[1;33m\u001b[0m\u001b[1;33m\u001b[0m\u001b[0m\n\u001b[0m\u001b[0;32m   1744\u001b[0m         \u001b[1;32mfor\u001b[0m \u001b[0mline\u001b[0m \u001b[1;32min\u001b[0m \u001b[0mlines\u001b[0m\u001b[1;33m:\u001b[0m\u001b[1;33m\u001b[0m\u001b[1;33m\u001b[0m\u001b[0m\n\u001b[0;32m   1745\u001b[0m             \u001b[0mself\u001b[0m\u001b[1;33m.\u001b[0m\u001b[0madd_line\u001b[0m\u001b[1;33m(\u001b[0m\u001b[0mline\u001b[0m\u001b[1;33m)\u001b[0m\u001b[1;33m\u001b[0m\u001b[1;33m\u001b[0m\u001b[0m\n",
      "\u001b[1;32mC:\\ProgramData\\Anaconda3\\lib\\site-packages\\matplotlib\\axes\\_base.py\u001b[0m in \u001b[0;36m__call__\u001b[1;34m(self, data, *args, **kwargs)\u001b[0m\n\u001b[0;32m    271\u001b[0m                 \u001b[0mthis\u001b[0m \u001b[1;33m+=\u001b[0m \u001b[0margs\u001b[0m\u001b[1;33m[\u001b[0m\u001b[1;36m0\u001b[0m\u001b[1;33m]\u001b[0m\u001b[1;33m,\u001b[0m\u001b[1;33m\u001b[0m\u001b[1;33m\u001b[0m\u001b[0m\n\u001b[0;32m    272\u001b[0m                 \u001b[0margs\u001b[0m \u001b[1;33m=\u001b[0m \u001b[0margs\u001b[0m\u001b[1;33m[\u001b[0m\u001b[1;36m1\u001b[0m\u001b[1;33m:\u001b[0m\u001b[1;33m]\u001b[0m\u001b[1;33m\u001b[0m\u001b[1;33m\u001b[0m\u001b[0m\n\u001b[1;32m--> 273\u001b[1;33m             \u001b[1;32myield\u001b[0m \u001b[1;32mfrom\u001b[0m \u001b[0mself\u001b[0m\u001b[1;33m.\u001b[0m\u001b[0m_plot_args\u001b[0m\u001b[1;33m(\u001b[0m\u001b[0mthis\u001b[0m\u001b[1;33m,\u001b[0m \u001b[0mkwargs\u001b[0m\u001b[1;33m)\u001b[0m\u001b[1;33m\u001b[0m\u001b[1;33m\u001b[0m\u001b[0m\n\u001b[0m\u001b[0;32m    274\u001b[0m \u001b[1;33m\u001b[0m\u001b[0m\n\u001b[0;32m    275\u001b[0m     \u001b[1;32mdef\u001b[0m \u001b[0mget_next_color\u001b[0m\u001b[1;33m(\u001b[0m\u001b[0mself\u001b[0m\u001b[1;33m)\u001b[0m\u001b[1;33m:\u001b[0m\u001b[1;33m\u001b[0m\u001b[1;33m\u001b[0m\u001b[0m\n",
      "\u001b[1;32mC:\\ProgramData\\Anaconda3\\lib\\site-packages\\matplotlib\\axes\\_base.py\u001b[0m in \u001b[0;36m_plot_args\u001b[1;34m(self, tup, kwargs)\u001b[0m\n\u001b[0;32m    397\u001b[0m \u001b[1;33m\u001b[0m\u001b[0m\n\u001b[0;32m    398\u001b[0m         \u001b[1;32mif\u001b[0m \u001b[0mx\u001b[0m\u001b[1;33m.\u001b[0m\u001b[0mshape\u001b[0m\u001b[1;33m[\u001b[0m\u001b[1;36m0\u001b[0m\u001b[1;33m]\u001b[0m \u001b[1;33m!=\u001b[0m \u001b[0my\u001b[0m\u001b[1;33m.\u001b[0m\u001b[0mshape\u001b[0m\u001b[1;33m[\u001b[0m\u001b[1;36m0\u001b[0m\u001b[1;33m]\u001b[0m\u001b[1;33m:\u001b[0m\u001b[1;33m\u001b[0m\u001b[1;33m\u001b[0m\u001b[0m\n\u001b[1;32m--> 399\u001b[1;33m             raise ValueError(f\"x and y must have same first dimension, but \"\n\u001b[0m\u001b[0;32m    400\u001b[0m                              f\"have shapes {x.shape} and {y.shape}\")\n\u001b[0;32m    401\u001b[0m         \u001b[1;32mif\u001b[0m \u001b[0mx\u001b[0m\u001b[1;33m.\u001b[0m\u001b[0mndim\u001b[0m \u001b[1;33m>\u001b[0m \u001b[1;36m2\u001b[0m \u001b[1;32mor\u001b[0m \u001b[0my\u001b[0m\u001b[1;33m.\u001b[0m\u001b[0mndim\u001b[0m \u001b[1;33m>\u001b[0m \u001b[1;36m2\u001b[0m\u001b[1;33m:\u001b[0m\u001b[1;33m\u001b[0m\u001b[1;33m\u001b[0m\u001b[0m\n",
      "\u001b[1;31mValueError\u001b[0m: x and y must have same first dimension, but have shapes (2615,) and (100,)"
     ]
    },
    {
     "data": {
      "image/png": "[encoded data removed]",
      "text/plain": [
       "<Figure size 720x360 with 1 Axes>"
      ]
     },
     "metadata": {
      "needs_background": "light"
     },
     "output_type": "display_data"
    }
   ],
   "source": [
    "train_pred = model.predict_in_sample(start=1, end=-1)\n",
    "\n",
    "fig, ax = plt.subplots(figsize=(10, 5))\n",
    "ax.plot(df.index, df[-100:]['LogClose'], label='data')\n",
    "ax.plot(train.index[1:], train_pred[-100:], label='fitted')\n",
    "ax.plot(test.index, test_pred, label='forecast')\n",
    "ax.fill_between(test.index, \\\n",
    "                confint[:,0], confint[:,1], \\\n",
    "                color='red', alpha=0.3)\n",
    "ax.legend();"
   ]
  },
  {
   "cell_type": "code",
   "execution_count": null,
   "id": "54952f11",
   "metadata": {},
   "outputs": [],
   "source": []
  }
 ],
 "metadata": {
  "kernelspec": {
   "display_name": "Python 3",
   "language": "python",
   "name": "python3"
  },
  "language_info": {
   "codemirror_mode": {
    "name": "ipython",
    "version": 3
   },
   "file_extension": ".py",
   "mimetype": "text/x-python",
   "name": "python",
   "nbconvert_exporter": "python",
   "pygments_lexer": "ipython3",
   "version": "3.8.8"
  }
 },
 "nbformat": 4,
 "nbformat_minor": 5
}
